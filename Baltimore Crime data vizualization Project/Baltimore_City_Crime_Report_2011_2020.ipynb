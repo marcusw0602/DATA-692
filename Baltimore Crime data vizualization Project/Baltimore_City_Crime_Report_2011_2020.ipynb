{
  "nbformat": 4,
  "nbformat_minor": 0,
  "metadata": {
    "kernelspec": {
      "display_name": "Python 3",
      "language": "python",
      "name": "python3"
    },
    "language_info": {
      "codemirror_mode": {
        "name": "ipython",
        "version": 3
      },
      "file_extension": ".py",
      "mimetype": "text/x-python",
      "name": "python",
      "nbconvert_exporter": "python",
      "pygments_lexer": "ipython3",
      "version": "3.7.4"
    },
    "colab": {
      "name": "Baltimore_City_Crime_Report_2011-2020.ipynb",
      "provenance": [],
      "include_colab_link": true
    }
  },
  "cells": [
    {
      "cell_type": "markdown",
      "metadata": {
        "id": "view-in-github",
        "colab_type": "text"
      },
      "source": [
        "<a href=\"https://colab.research.google.com/github/marcusw0602/Data-visualization/blob/master/Baltimore_City_Crime_Report_2011_2020.ipynb\" target=\"_parent\"><img src=\"https://colab.research.google.com/assets/colab-badge.svg\" alt=\"Open In Colab\"/></a>"
      ]
    },
    {
      "cell_type": "markdown",
      "metadata": {
        "id": "LZbVYT4UPnZv"
      },
      "source": [
        "# *Top and bottom level analysis for Baltimore City Crime*\n",
        "\n",
        "## Importing Packages\n",
        "- Below you will see the following packages I will be using for my report on Baltimore City Crime.\n",
        "- I will be using the package csv to read in my dataset due to it being a csv file. Also I will be using Seaborn package because of the high level customization along with the vizualization power it contains. \n",
        "- You will also see that I am disabling the max rows because I am using a dataset that is very large (500,000 records). \n",
        "- Now you will also see that I am enabling json. I am doing this because it will help handle my large dataset so that I can create visualization will out crashing the notebook. "
      ]
    },
    {
      "cell_type": "code",
      "metadata": {
        "id": "JMuttoPVPnZw",
        "outputId": "e25eca65-7bb5-45dc-d84e-d6f2d8656318"
      },
      "source": [
        "import csv\n",
        "import pandas as pd\n",
        "import altair as alt\n",
        "from altair import datum\n",
        "alt.data_transformers.disable_max_rows()\n",
        "alt.data_transformers.enable('json')"
      ],
      "execution_count": null,
      "outputs": [
        {
          "output_type": "execute_result",
          "data": {
            "text/plain": [
              "DataTransformerRegistry.enable('json')"
            ]
          },
          "metadata": {
            "tags": []
          },
          "execution_count": 2
        }
      ]
    },
    {
      "cell_type": "markdown",
      "metadata": {
        "id": "CJoVIMXoPnZz"
      },
      "source": [
        "## Taking in the Data\n",
        "- The code you see below is me reading in two csv files containing criminal activity from by 2011-2016 and 1965-2020 within Baltimore City.\n",
        "- You then will see me reading in certain columns of data from the csvs. I am doing this because between the two files only what is listed in the code below is shared amoung the two files.\n",
        "- I then created a variable called \"CrimeReport\" this variable will be used to house the two csv file's data after is has been merged. \n",
        "- Once I mergered the two files into one I then drop any duplicates from the CrimeReport dataframe so that I can have a more accurate data set to work from. \n",
        "- Finally, I export the CrimeReport dataframe into it's own csv to save on memory. "
      ]
    },
    {
      "cell_type": "code",
      "metadata": {
        "id": "KxXWKKVNPnZz"
      },
      "source": [
        "Report_2011_2016 = pd.read_csv(\"BPD_Crime_2011-2016.csv\", \n",
        "                               usecols = ['CrimeDate','CrimeTime','CrimeCode','Description','Inside/Outside',\n",
        "                                          'Weapon','District','Neighborhood','Total Incidents'])\n",
        "Report_2014_2020 = pd.read_csv(\"BPD_Part_1_Victim_Based_Crime_Data.csv\",\n",
        "                               usecols = ['CrimeDate','CrimeTime','CrimeCode','Description','Inside/Outside',\n",
        "                                          'Weapon','District','Neighborhood','Total Incidents'])\n",
        "CrimeReport = pd.DataFrame()\n",
        "CrimeReport = pd.concat([Report_2011_2016,Report_2014_2020])\n",
        "CrimeReport = CrimeReport.drop_duplicates(['CrimeDate','CrimeTime','CrimeCode','Description','Inside/Outside',\n",
        "                                           'Weapon','District','Neighborhood','Total Incidents'])\n",
        "CrimeReport.to_csv(\"Baltimore City Crime Report 2011-2020.csv\", index=False)"
      ],
      "execution_count": null,
      "outputs": []
    },
    {
      "cell_type": "markdown",
      "metadata": {
        "id": "cRo3xaUuPnZ1"
      },
      "source": [
        "## Cleaning Data Part 1\n",
        " - First line you will see me reading in the new csv file using the variable CrimeReport. \n",
        " - The next six lines you will see me cleaning and adding columns in the data set, I changed all \"NaN\" values to unknown or not reported to see from a reporting standpoint how much data is missed. \n",
        " - Last two lines me filtering out any row of data that does not contain the year 2011 or greater. This is done due to the years before 2011 only containing partial entries. I did not want this to mess up the metric portion of my charts down the line in the project.  "
      ]
    },
    {
      "cell_type": "code",
      "metadata": {
        "id": "1dce_H51PnZ1"
      },
      "source": [
        "CrimeReport = pd.read_csv(\"Baltimore City Crime Report 2011-2020.csv\")\n",
        "CrimeReport['Hour'] = CrimeReport['CrimeTime'].str[0:2]\n",
        "CrimeReport['Month'] = CrimeReport['CrimeDate'].str[0:2]\n",
        "CrimeReport['Year'] = CrimeReport['CrimeDate'].str[6:].astype('int64')\n",
        "CrimeReport['CrimeDate'] = pd.to_datetime(CrimeReport['CrimeDate'],format='%m/%d/%Y')\n",
        "CrimeReport['District'] = CrimeReport['District'].fillna('Unknown')\n",
        "CrimeReport['Weapon'] = CrimeReport['Weapon'].fillna('Unknown')\n",
        "CrimeReport['Inside/Outside'] = CrimeReport['Inside/Outside'].fillna('Unknown')\n",
        "CrimeReport['Neighborhood'] = CrimeReport['Neighborhood'].fillna('No Neighborhood')\n",
        "Index=CrimeReport[CrimeReport['Year'] < 2011 ].index\n",
        "CrimeReport.drop(Index,inplace=True)\n",
        "CrimeReport.to_csv(\"Baltimore City Crime Report 2011-2020.csv\", index=False)"
      ],
      "execution_count": null,
      "outputs": []
    },
    {
      "cell_type": "markdown",
      "metadata": {
        "id": "3_MwVZ27PnZ6"
      },
      "source": [
        "## Cleaning Data Part 2\n",
        "- You will see the two lines below that I am sorting the data in the frame to ascend with the latest year and time a crime was committed. "
      ]
    },
    {
      "cell_type": "code",
      "metadata": {
        "id": "UQXly6CuPnZ6"
      },
      "source": [
        "CrimeReport = CrimeReport.sort_values(by=['Year','CrimeDate'],ascending=False)\n",
        "CrimeReport = CrimeReport.reset_index(drop=True)"
      ],
      "execution_count": null,
      "outputs": []
    },
    {
      "cell_type": "markdown",
      "metadata": {
        "id": "UXYuymg4PnZ8"
      },
      "source": [
        "## Cleaning Data Part 3\n",
        "- The following block of code you will see that I am replacing alot of data values with in certain columns. The reason for this is that certain columns such as the 'District' would have the same district but miss spelled. So I went in and replace all data strings to match a uniformed string so that mertics later on are not mis leading or incorrect. "
      ]
    },
    {
      "cell_type": "code",
      "metadata": {
        "id": "CSAcrdMxPnZ8"
      },
      "source": [
        "CrimeReport = CrimeReport.sort_values(by=['Year','CrimeDate'],ascending=False)\n",
        "CrimeReport = CrimeReport.reset_index(drop=True)\n",
        "replacements=[(\"I\", \"Inside\"),(\"O\", \"Outside\"),('UNKNOWN','unknown'),('Unknown','unknown'),('Central','CENTRAL'),\n",
        "              ('NORTHEAST','NORTHEASTERN'),('NORTHESTERN','NORTHEASTERN'),('NORTHWEST','NORTHWESTERN'),\n",
        "              ('BELAIR-EDISON','Belair-Edison'),('BROOKLYN','Brooklyn'),('CANTON','Canton'),\n",
        "              ('CHERRY HILL','Cherry Hill'),('COLDSTREAM HOMESTEAD','Coldstream Homestead Montebello'),\n",
        "              ('DOWNTOWN','Downtown'),('FELLS POINT','Fells Point'),('FRANKFORD','Frankford'),\n",
        "              ('INNER HARBOR','Inner Harbor'),('SANDTOWN-WINCHESTER','Sandtown-Winchester'),('UPTON','Upton'),\n",
        "              ('WASHINGTON VILLAGE','Washington Village/Pigtown'),('BROADWAY EAST','Broadway East'),\n",
        "              ('CARROLLTON RIDGE','Carrollton Ridge'),('CENTRAL PARK HEIGHTS','Central Park Heights'),\n",
        "              ('CHARLES VILLAGE','Charles Village'),('EAST BALTIMORE MIDWA','East Baltimore Midway'),\n",
        "              ('ELLWOOD PARK/MONUMEN','Ellwood Park/Monument'),('HAMPDEN','Hampden'),('MONDAWMIN','Mondawmin'),\n",
        "              ('MOUNT VERNON','Mount Vernon'),('MID-TOWN BELVEDERE','Mid-Town Belvedere'),\n",
        "              ('MCELDERRY PARK','McElderry Park'),('OLIVER','Oliver'),('RESERVOIR HILL','Reservoir Hill'),\n",
        "              ('SOUTHEAST','SOUTHEASTERN'),('SOUTHESTERN','SOUTHEASTERN'),('SOUTHWEST','SOUTHWESTERN'),\n",
        "              ('Gay Street','CENTRAL'),(\"FIRE\", \"FIREARM\")]\n",
        "for each_replacement in replacements:\n",
        "    assert len(each_replacement) == 2 and isinstance(each_replacement, tuple)\n",
        "    CrimeReport.replace(each_replacement[0], each_replacement[1], inplace=True)"
      ],
      "execution_count": null,
      "outputs": []
    },
    {
      "cell_type": "markdown",
      "metadata": {
        "id": "PL0bSA3CPnZ-"
      },
      "source": [
        "## TOP-LEVEL VIEW OF THE CRIME IN BALTIMORE CITY FROM DIFFERENT FILTERS"
      ]
    },
    {
      "cell_type": "markdown",
      "metadata": {
        "id": "wCuYOz06PnZ-"
      },
      "source": [
        "## Criminal Activity Reported by Districts from 2011-2020\n",
        "- You will see from the bar graph below that the Northeastern district out of all 9 Baltimore City districts is the most dangerous with a report of over 80,000+ reports from 2011-2020.\n",
        "- You will also find that the Southeastern district comes to be a close second will almost 75,000+ reports.\n",
        "- Now at the very bottom you will see a unknown mark. This is the marker with the amount of criminal reports that were not reported with a district. Some questions here could be made as to why is this so and how can we make sure that we each report is place at the correct location. "
      ]
    },
    {
      "cell_type": "code",
      "metadata": {
        "scrolled": true,
        "id": "8wUX1qbVPnZ_",
        "outputId": "21a8f6ad-26b5-43f6-9711-81691e048ec5"
      },
      "source": [
        "base=alt.Chart(CrimeReport).encode(x=alt.X('sum(Total Incidents)',title=None),y=alt.Y('District',sort='-x',title='Baltimore City Districts')).properties(title='Crime Reported by District from 2011-Current')\n",
        "bars=base.mark_bar().encode(color=alt.Color('District:N',legend=None))\n",
        "text=base.mark_text(align='left',baseline='middle',dx=3,fontSize=15,).encode(text='count()')\n",
        "bars.configure_title(fontSize=20,font='Courier',anchor='start',color='black')\n",
        "\n",
        "(bars+text).properties(height=500,width=800)"
      ],
      "execution_count": null,
      "outputs": [
        {
          "output_type": "execute_result",
          "data": {
            "text/html": [
              "\n",
              "<div id=\"altair-viz-d07dd9e0a52c443c9f3ad59825fa1e91\"></div>\n",
              "<script type=\"text/javascript\">\n",
              "  (function(spec, embedOpt){\n",
              "    let outputDiv = document.currentScript.previousElementSibling;\n",
              "    if (outputDiv.id !== \"altair-viz-d07dd9e0a52c443c9f3ad59825fa1e91\") {\n",
              "      outputDiv = document.getElementById(\"altair-viz-d07dd9e0a52c443c9f3ad59825fa1e91\");\n",
              "    }\n",
              "    const paths = {\n",
              "      \"vega\": \"https://cdn.jsdelivr.net/npm//vega@5?noext\",\n",
              "      \"vega-lib\": \"https://cdn.jsdelivr.net/npm//vega-lib?noext\",\n",
              "      \"vega-lite\": \"https://cdn.jsdelivr.net/npm//vega-lite@4.8.1?noext\",\n",
              "      \"vega-embed\": \"https://cdn.jsdelivr.net/npm//vega-embed@6?noext\",\n",
              "    };\n",
              "\n",
              "    function loadScript(lib) {\n",
              "      return new Promise(function(resolve, reject) {\n",
              "        var s = document.createElement('script');\n",
              "        s.src = paths[lib];\n",
              "        s.async = true;\n",
              "        s.onload = () => resolve(paths[lib]);\n",
              "        s.onerror = () => reject(`Error loading script: ${paths[lib]}`);\n",
              "        document.getElementsByTagName(\"head\")[0].appendChild(s);\n",
              "      });\n",
              "    }\n",
              "\n",
              "    function showError(err) {\n",
              "      outputDiv.innerHTML = `<div class=\"error\" style=\"color:red;\">${err}</div>`;\n",
              "      throw err;\n",
              "    }\n",
              "\n",
              "    function displayChart(vegaEmbed) {\n",
              "      vegaEmbed(outputDiv, spec, embedOpt)\n",
              "        .catch(err => showError(`Javascript Error: ${err.message}<br>This usually means there's a typo in your chart specification. See the javascript console for the full traceback.`));\n",
              "    }\n",
              "\n",
              "    if(typeof define === \"function\" && define.amd) {\n",
              "      requirejs.config({paths});\n",
              "      require([\"vega-embed\"], displayChart, err => showError(`Error loading script: ${err.message}`));\n",
              "    } else if (typeof vegaEmbed === \"function\") {\n",
              "      displayChart(vegaEmbed);\n",
              "    } else {\n",
              "      loadScript(\"vega\")\n",
              "        .then(() => loadScript(\"vega-lite\"))\n",
              "        .then(() => loadScript(\"vega-embed\"))\n",
              "        .catch(showError)\n",
              "        .then(() => displayChart(vegaEmbed));\n",
              "    }\n",
              "  })({\"config\": {\"view\": {\"continuousWidth\": 400, \"continuousHeight\": 300}}, \"layer\": [{\"mark\": \"bar\", \"encoding\": {\"color\": {\"type\": \"nominal\", \"field\": \"District\", \"legend\": null}, \"x\": {\"type\": \"quantitative\", \"aggregate\": \"sum\", \"field\": \"Total Incidents\", \"title\": null}, \"y\": {\"type\": \"nominal\", \"field\": \"District\", \"sort\": \"-x\", \"title\": \"Baltimore City Districts\"}}, \"title\": \"Crime Reported by District from 2011-Current\"}, {\"mark\": {\"type\": \"text\", \"align\": \"left\", \"baseline\": \"middle\", \"dx\": 3, \"fontSize\": 15}, \"encoding\": {\"text\": {\"type\": \"quantitative\", \"aggregate\": \"count\"}, \"x\": {\"type\": \"quantitative\", \"aggregate\": \"sum\", \"field\": \"Total Incidents\", \"title\": null}, \"y\": {\"type\": \"nominal\", \"field\": \"District\", \"sort\": \"-x\", \"title\": \"Baltimore City Districts\"}}, \"title\": \"Crime Reported by District from 2011-Current\"}], \"data\": {\"url\": \"altair-data-3fec604394eb875eccc0ead8feea34e7.json\", \"format\": {\"type\": \"json\"}}, \"height\": 500, \"width\": 800, \"$schema\": \"https://vega.github.io/schema/vega-lite/v4.8.1.json\"}, {\"mode\": \"vega-lite\"});\n",
              "</script>"
            ],
            "text/plain": [
              "alt.LayerChart(...)"
            ]
          },
          "metadata": {
            "tags": []
          },
          "execution_count": 7
        }
      ]
    },
    {
      "cell_type": "markdown",
      "metadata": {
        "id": "GhKoxaXjPnaB"
      },
      "source": [
        "## Criminal Activity from the Nine of the most active Neighborhoods in Baltimore City.\n",
        "\n",
        "- We can see that from the report Downtown is the holder for most reported cases with 17,500+ reports"
      ]
    },
    {
      "cell_type": "code",
      "metadata": {
        "scrolled": true,
        "id": "MY1XWTOZPnaB",
        "outputId": "9c554099-1520-4ba2-919a-f675bf489f01"
      },
      "source": [
        "base=alt.Chart(CrimeReport).transform_aggregate(Total_Incidents='sum(Total Incidents)',groupby=['Neighborhood','District'],).transform_filter(\"datum.Total_Incidents > 7000\").properties(title='Top 7 Highest Crime Reported Neighborhoods from 2011-Current')\n",
        "bars=base.mark_bar().encode(x=alt.X('Total_Incidents:Q',title=None),y=alt.Y('Neighborhood',title='Baltimore City Neighborhood',sort='-x'),color=alt.Color('Neighborhood:N',legend=None),tooltip=['Total_Incidents:Q','District'])\n",
        "bars.configure_title(fontSize=20,font='Courier',anchor='start',color='black')\n",
        "\n",
        "bars.properties(height=500,width=800)"
      ],
      "execution_count": null,
      "outputs": [
        {
          "output_type": "execute_result",
          "data": {
            "text/html": [
              "\n",
              "<div id=\"altair-viz-d5a3e0b97aab4293a4ff6ac047d18780\"></div>\n",
              "<script type=\"text/javascript\">\n",
              "  (function(spec, embedOpt){\n",
              "    let outputDiv = document.currentScript.previousElementSibling;\n",
              "    if (outputDiv.id !== \"altair-viz-d5a3e0b97aab4293a4ff6ac047d18780\") {\n",
              "      outputDiv = document.getElementById(\"altair-viz-d5a3e0b97aab4293a4ff6ac047d18780\");\n",
              "    }\n",
              "    const paths = {\n",
              "      \"vega\": \"https://cdn.jsdelivr.net/npm//vega@5?noext\",\n",
              "      \"vega-lib\": \"https://cdn.jsdelivr.net/npm//vega-lib?noext\",\n",
              "      \"vega-lite\": \"https://cdn.jsdelivr.net/npm//vega-lite@4.8.1?noext\",\n",
              "      \"vega-embed\": \"https://cdn.jsdelivr.net/npm//vega-embed@6?noext\",\n",
              "    };\n",
              "\n",
              "    function loadScript(lib) {\n",
              "      return new Promise(function(resolve, reject) {\n",
              "        var s = document.createElement('script');\n",
              "        s.src = paths[lib];\n",
              "        s.async = true;\n",
              "        s.onload = () => resolve(paths[lib]);\n",
              "        s.onerror = () => reject(`Error loading script: ${paths[lib]}`);\n",
              "        document.getElementsByTagName(\"head\")[0].appendChild(s);\n",
              "      });\n",
              "    }\n",
              "\n",
              "    function showError(err) {\n",
              "      outputDiv.innerHTML = `<div class=\"error\" style=\"color:red;\">${err}</div>`;\n",
              "      throw err;\n",
              "    }\n",
              "\n",
              "    function displayChart(vegaEmbed) {\n",
              "      vegaEmbed(outputDiv, spec, embedOpt)\n",
              "        .catch(err => showError(`Javascript Error: ${err.message}<br>This usually means there's a typo in your chart specification. See the javascript console for the full traceback.`));\n",
              "    }\n",
              "\n",
              "    if(typeof define === \"function\" && define.amd) {\n",
              "      requirejs.config({paths});\n",
              "      require([\"vega-embed\"], displayChart, err => showError(`Error loading script: ${err.message}`));\n",
              "    } else if (typeof vegaEmbed === \"function\") {\n",
              "      displayChart(vegaEmbed);\n",
              "    } else {\n",
              "      loadScript(\"vega\")\n",
              "        .then(() => loadScript(\"vega-lite\"))\n",
              "        .then(() => loadScript(\"vega-embed\"))\n",
              "        .catch(showError)\n",
              "        .then(() => displayChart(vegaEmbed));\n",
              "    }\n",
              "  })({\"config\": {\"view\": {\"continuousWidth\": 400, \"continuousHeight\": 300}}, \"data\": {\"url\": \"altair-data-3fec604394eb875eccc0ead8feea34e7.json\", \"format\": {\"type\": \"json\"}}, \"mark\": \"bar\", \"encoding\": {\"color\": {\"type\": \"nominal\", \"field\": \"Neighborhood\", \"legend\": null}, \"tooltip\": [{\"type\": \"quantitative\", \"field\": \"Total_Incidents\"}, {\"type\": \"nominal\", \"field\": \"District\"}], \"x\": {\"type\": \"quantitative\", \"field\": \"Total_Incidents\", \"title\": null}, \"y\": {\"type\": \"nominal\", \"field\": \"Neighborhood\", \"sort\": \"-x\", \"title\": \"Baltimore City Neighborhood\"}}, \"height\": 500, \"title\": \"Top 7 Highest Crime Reported Neighborhoods from 2011-Current\", \"transform\": [{\"aggregate\": [{\"op\": \"sum\", \"field\": \"Total Incidents\", \"as\": \"Total_Incidents\"}], \"groupby\": [\"Neighborhood\", \"District\"]}, {\"filter\": \"datum.Total_Incidents > 7000\"}], \"width\": 800, \"$schema\": \"https://vega.github.io/schema/vega-lite/v4.8.1.json\"}, {\"mode\": \"vega-lite\"});\n",
              "</script>"
            ],
            "text/plain": [
              "alt.Chart(...)"
            ]
          },
          "metadata": {
            "tags": []
          },
          "execution_count": 8
        }
      ]
    },
    {
      "cell_type": "markdown",
      "metadata": {
        "id": "I9XX4bVWPnaD"
      },
      "source": [
        "## Weapons reported being used in criminal offenses from 2011-2020\n",
        "\n",
        "- As you can see between the Knife, Other, Firearm, and hands no type total reached over 50,000 from 2011-2020.\n",
        "- Interesting to find is that more crimes were committed where the weapon used was by an unknown type that was not entried in. \n",
        "- On the other hand you will see that there were closet to over 400,000 reports that did not list whether or not a weapon was used in the criminal act. \n",
        "- Some questions can be asked here such as why and how are we reporting almost 400,000 unknown weapon types listed from 2011-2020. \n",
        "- I also wanted to know what of these weapon types were committed either insided or outside by rowing out the graph by the \"Inside/Outside\" data column. \n",
        "- The strange but interesting part is that there is a substantial amount of weapons types plus unknown that is not being properly reported whether it happened in or outside. Along with the other graphs unknown weapon types are very significant. "
      ]
    },
    {
      "cell_type": "code",
      "metadata": {
        "scrolled": true,
        "id": "NmdcVkn5PnaE",
        "outputId": "15e46927-825a-4113-cefc-91612c38f394"
      },
      "source": [
        "base=alt.Chart(CrimeReport).mark_bar().encode(x=alt.X('sum(Total Incidents)',title=None),y=alt.Y('Weapon',sort='-x',title='Weapon Type'),color=alt.Color('Weapon:N',legend=None),tooltip=['sum(Total Incidents):Q'],column='Inside/Outside').properties(title='Weapon counts reported in Crime Report from 2011-Current')\n",
        "#text=base.mark_text(align='left',baseline='middle',dx=3,fontSize=15,).encode(text='count()')\n",
        "base.configure_title(fontSize=20,font='Courier',anchor='start',color='black')\n",
        "\n",
        "base.properties(height=300,width=500)"
      ],
      "execution_count": null,
      "outputs": [
        {
          "output_type": "execute_result",
          "data": {
            "text/html": [
              "\n",
              "<div id=\"altair-viz-25f37307ebce4fa8aa4a856da11cf578\"></div>\n",
              "<script type=\"text/javascript\">\n",
              "  (function(spec, embedOpt){\n",
              "    let outputDiv = document.currentScript.previousElementSibling;\n",
              "    if (outputDiv.id !== \"altair-viz-25f37307ebce4fa8aa4a856da11cf578\") {\n",
              "      outputDiv = document.getElementById(\"altair-viz-25f37307ebce4fa8aa4a856da11cf578\");\n",
              "    }\n",
              "    const paths = {\n",
              "      \"vega\": \"https://cdn.jsdelivr.net/npm//vega@5?noext\",\n",
              "      \"vega-lib\": \"https://cdn.jsdelivr.net/npm//vega-lib?noext\",\n",
              "      \"vega-lite\": \"https://cdn.jsdelivr.net/npm//vega-lite@4.8.1?noext\",\n",
              "      \"vega-embed\": \"https://cdn.jsdelivr.net/npm//vega-embed@6?noext\",\n",
              "    };\n",
              "\n",
              "    function loadScript(lib) {\n",
              "      return new Promise(function(resolve, reject) {\n",
              "        var s = document.createElement('script');\n",
              "        s.src = paths[lib];\n",
              "        s.async = true;\n",
              "        s.onload = () => resolve(paths[lib]);\n",
              "        s.onerror = () => reject(`Error loading script: ${paths[lib]}`);\n",
              "        document.getElementsByTagName(\"head\")[0].appendChild(s);\n",
              "      });\n",
              "    }\n",
              "\n",
              "    function showError(err) {\n",
              "      outputDiv.innerHTML = `<div class=\"error\" style=\"color:red;\">${err}</div>`;\n",
              "      throw err;\n",
              "    }\n",
              "\n",
              "    function displayChart(vegaEmbed) {\n",
              "      vegaEmbed(outputDiv, spec, embedOpt)\n",
              "        .catch(err => showError(`Javascript Error: ${err.message}<br>This usually means there's a typo in your chart specification. See the javascript console for the full traceback.`));\n",
              "    }\n",
              "\n",
              "    if(typeof define === \"function\" && define.amd) {\n",
              "      requirejs.config({paths});\n",
              "      require([\"vega-embed\"], displayChart, err => showError(`Error loading script: ${err.message}`));\n",
              "    } else if (typeof vegaEmbed === \"function\") {\n",
              "      displayChart(vegaEmbed);\n",
              "    } else {\n",
              "      loadScript(\"vega\")\n",
              "        .then(() => loadScript(\"vega-lite\"))\n",
              "        .then(() => loadScript(\"vega-embed\"))\n",
              "        .catch(showError)\n",
              "        .then(() => displayChart(vegaEmbed));\n",
              "    }\n",
              "  })({\"config\": {\"view\": {\"continuousWidth\": 400, \"continuousHeight\": 300}}, \"data\": {\"url\": \"altair-data-3fec604394eb875eccc0ead8feea34e7.json\", \"format\": {\"type\": \"json\"}}, \"mark\": \"bar\", \"encoding\": {\"color\": {\"type\": \"nominal\", \"field\": \"Weapon\", \"legend\": null}, \"column\": {\"type\": \"nominal\", \"field\": \"Inside/Outside\"}, \"tooltip\": [{\"type\": \"quantitative\", \"aggregate\": \"sum\", \"field\": \"Total Incidents\"}], \"x\": {\"type\": \"quantitative\", \"aggregate\": \"sum\", \"field\": \"Total Incidents\", \"title\": null}, \"y\": {\"type\": \"nominal\", \"field\": \"Weapon\", \"sort\": \"-x\", \"title\": \"Weapon Type\"}}, \"height\": 300, \"title\": \"Weapon counts reported in Crime Report from 2011-Current\", \"width\": 500, \"$schema\": \"https://vega.github.io/schema/vega-lite/v4.8.1.json\"}, {\"mode\": \"vega-lite\"});\n",
              "</script>"
            ],
            "text/plain": [
              "alt.Chart(...)"
            ]
          },
          "metadata": {
            "tags": []
          },
          "execution_count": 9
        }
      ]
    },
    {
      "cell_type": "markdown",
      "metadata": {
        "id": "EH8Z6wLdPnaF"
      },
      "source": [
        "## The Report of Criminal Charges given from 2011-2020\n",
        "- As you will see from the report, in almost a 9 year span the most common charge in Baltimore City is Larceny (Theift of personal property)\n",
        "- The shocking find for me is seeing that Homicide is the second to last common charge given in Baltimore city. \n",
        "- I have structured the code in a way that when you click on a specific bar the associated line to that bar will then only show. \n",
        "- I have also allowed that the line graph is interactive meaning you are able to scroll and see each day a crime and what that crime take place. "
      ]
    },
    {
      "cell_type": "code",
      "metadata": {
        "id": "qvH-gOH5PnaF",
        "outputId": "b13bdde8-d0d7-49c5-b230-bde3b30b8ced"
      },
      "source": [
        "interval=alt.selection_multi(encodings=['color'])\n",
        "\n",
        "base=alt.Chart(CrimeReport).encode(\n",
        "    x=alt.X('sum(Total Incidents)',sort='y',title=None),\n",
        "    y=alt.Y('Description',sort='-x',title='Criminal Acts')\n",
        ").properties(title='Types of Crime Reported from 2011-Current')\n",
        "\n",
        "bars=base.mark_bar().encode(\n",
        "    color=alt.condition(interval,'Description:N',alt.value('lightgray'),legend=None),\n",
        "    tooltip=['sum(Total Incidents):Q']\n",
        ").properties(\n",
        "    selection=interval\n",
        ")\n",
        "\n",
        "#text=base.mark_text(align='center',baseline='middle',dx=30,dy=-10,fontSize=15).encode(text='count()')\n",
        "bars.configure_title(fontSize=20,font='Courier',anchor='start',color='black')\n",
        "\n",
        "Time=alt.Chart(CrimeReport).mark_line().encode(\n",
        "    x=alt.X('CrimeDate:T'),\n",
        "    y=alt.Y('sum(Total Incidents)'),\n",
        "    color=alt.Color('Description',legend=None,scale=alt.Scale(scheme='dark2'))\n",
        ").interactive().transform_filter(\n",
        "    interval\n",
        ")\n",
        "bars.properties(height=400,width=700) & Time.properties(height=400,width=700)"
      ],
      "execution_count": null,
      "outputs": [
        {
          "output_type": "execute_result",
          "data": {
            "text/html": [
              "\n",
              "<div id=\"altair-viz-f5eb37026ea648029f8d6a652376b1e0\"></div>\n",
              "<script type=\"text/javascript\">\n",
              "  (function(spec, embedOpt){\n",
              "    let outputDiv = document.currentScript.previousElementSibling;\n",
              "    if (outputDiv.id !== \"altair-viz-f5eb37026ea648029f8d6a652376b1e0\") {\n",
              "      outputDiv = document.getElementById(\"altair-viz-f5eb37026ea648029f8d6a652376b1e0\");\n",
              "    }\n",
              "    const paths = {\n",
              "      \"vega\": \"https://cdn.jsdelivr.net/npm//vega@5?noext\",\n",
              "      \"vega-lib\": \"https://cdn.jsdelivr.net/npm//vega-lib?noext\",\n",
              "      \"vega-lite\": \"https://cdn.jsdelivr.net/npm//vega-lite@4.8.1?noext\",\n",
              "      \"vega-embed\": \"https://cdn.jsdelivr.net/npm//vega-embed@6?noext\",\n",
              "    };\n",
              "\n",
              "    function loadScript(lib) {\n",
              "      return new Promise(function(resolve, reject) {\n",
              "        var s = document.createElement('script');\n",
              "        s.src = paths[lib];\n",
              "        s.async = true;\n",
              "        s.onload = () => resolve(paths[lib]);\n",
              "        s.onerror = () => reject(`Error loading script: ${paths[lib]}`);\n",
              "        document.getElementsByTagName(\"head\")[0].appendChild(s);\n",
              "      });\n",
              "    }\n",
              "\n",
              "    function showError(err) {\n",
              "      outputDiv.innerHTML = `<div class=\"error\" style=\"color:red;\">${err}</div>`;\n",
              "      throw err;\n",
              "    }\n",
              "\n",
              "    function displayChart(vegaEmbed) {\n",
              "      vegaEmbed(outputDiv, spec, embedOpt)\n",
              "        .catch(err => showError(`Javascript Error: ${err.message}<br>This usually means there's a typo in your chart specification. See the javascript console for the full traceback.`));\n",
              "    }\n",
              "\n",
              "    if(typeof define === \"function\" && define.amd) {\n",
              "      requirejs.config({paths});\n",
              "      require([\"vega-embed\"], displayChart, err => showError(`Error loading script: ${err.message}`));\n",
              "    } else if (typeof vegaEmbed === \"function\") {\n",
              "      displayChart(vegaEmbed);\n",
              "    } else {\n",
              "      loadScript(\"vega\")\n",
              "        .then(() => loadScript(\"vega-lite\"))\n",
              "        .then(() => loadScript(\"vega-embed\"))\n",
              "        .catch(showError)\n",
              "        .then(() => displayChart(vegaEmbed));\n",
              "    }\n",
              "  })({\"config\": {\"view\": {\"continuousWidth\": 400, \"continuousHeight\": 300}}, \"vconcat\": [{\"mark\": \"bar\", \"encoding\": {\"color\": {\"condition\": {\"type\": \"nominal\", \"field\": \"Description\", \"legend\": null, \"selection\": \"selector001\"}, \"value\": \"lightgray\"}, \"tooltip\": [{\"type\": \"quantitative\", \"aggregate\": \"sum\", \"field\": \"Total Incidents\"}], \"x\": {\"type\": \"quantitative\", \"aggregate\": \"sum\", \"field\": \"Total Incidents\", \"sort\": \"y\", \"title\": null}, \"y\": {\"type\": \"nominal\", \"field\": \"Description\", \"sort\": \"-x\", \"title\": \"Criminal Acts\"}}, \"height\": 400, \"selection\": {\"selector001\": {\"type\": \"multi\", \"encodings\": [\"color\"]}}, \"title\": \"Types of Crime Reported from 2011-Current\", \"width\": 700}, {\"mark\": \"line\", \"encoding\": {\"color\": {\"type\": \"nominal\", \"field\": \"Description\", \"legend\": null, \"scale\": {\"scheme\": \"dark2\"}}, \"x\": {\"type\": \"temporal\", \"field\": \"CrimeDate\"}, \"y\": {\"type\": \"quantitative\", \"aggregate\": \"sum\", \"field\": \"Total Incidents\"}}, \"height\": 400, \"selection\": {\"selector002\": {\"type\": \"interval\", \"bind\": \"scales\", \"encodings\": [\"x\", \"y\"]}}, \"transform\": [{\"filter\": {\"selection\": \"selector001\"}}], \"width\": 700}], \"data\": {\"url\": \"altair-data-3fec604394eb875eccc0ead8feea34e7.json\", \"format\": {\"type\": \"json\"}}, \"$schema\": \"https://vega.github.io/schema/vega-lite/v4.8.1.json\"}, {\"mode\": \"vega-lite\"});\n",
              "</script>"
            ],
            "text/plain": [
              "alt.VConcatChart(...)"
            ]
          },
          "metadata": {
            "tags": []
          },
          "execution_count": 10
        }
      ]
    },
    {
      "cell_type": "markdown",
      "metadata": {
        "id": "_YUOd3-GPnaH"
      },
      "source": [
        "## Crime activity throughout a nine year span within Baltimore City\n",
        "- You can see from 2011-2013 that criminal activity become very consistent and stagnant for that three year mark.\n",
        "- Now when you continue onward from the ending of 2013, you see that there has been a spike in 2014 then the highest recorded year in 2015 and then a slow decent in 2016. \n",
        "- Then is drastically fall back down and continued to decrease slowly. "
      ]
    },
    {
      "cell_type": "markdown",
      "metadata": {
        "id": "uwPXEiH5PnaH"
      },
      "source": [
        "## Criminal Report from a 12 month calendar view from 2011-2020\n",
        "- You can see that from start of the year criminal activity is some what high in January and the towards the middle of the year when it is during the summer months like May-Aug you see the surge and consistency of crime occuring. "
      ]
    },
    {
      "cell_type": "code",
      "metadata": {
        "scrolled": true,
        "id": "gltpvbtzPnaI",
        "outputId": "97bb40bb-d451-41a7-ef8c-071b9cd80251"
      },
      "source": [
        "interval=alt.selection_multi(encodings=['color'])\n",
        "\n",
        "base=alt.Chart(CrimeReport).encode(\n",
        "    y=alt.Y('sum(Total Incidents)',sort='y',title=None),\n",
        "    x=alt.X('CrimeDate:T',timeUnit='year')\n",
        ")\n",
        "bars=base.mark_bar().encode(\n",
        "    color=alt.condition(interval,'Year:N',alt.value('lightgray'),legend=None)\n",
        ").properties(\n",
        "    selection=interval\n",
        ")\n",
        "\n",
        "text=base.mark_text(align='center',baseline='middle',dx=30,dy=-10,fontSize=15).encode(text='count()')\n",
        "bars.configure_title(fontSize=20,font='Courier',anchor='start',color='black')\n",
        "\n",
        "Time=alt.Chart(CrimeReport).mark_line().encode(\n",
        "    x=alt.X('CrimeDate:T'),\n",
        "    y=alt.Y('sum(Total Incidents)')\n",
        "    ,color=alt.Color('Year',legend=None,scale=alt.Scale(scheme='dark2')),strokeDash='Year'\n",
        ").interactive().transform_filter(\n",
        "    interval\n",
        ")\n",
        "\n",
        "base1=alt.Chart(CrimeReport).encode(\n",
        "    y=alt.Y('sum(Total Incidents):Q',title=None),\n",
        "    x=alt.X('CrimeDate:T',timeUnit='month')\n",
        ")\n",
        "bars1=base1.mark_bar().encode(\n",
        "    color=alt.Color('Month:N',legend=None)\n",
        ")\n",
        "text1=base1.mark_text(align='center',dx=30,dy=-10,baseline='middle',fontSize=15).encode(text='sum(Total Incidents):Q')\n",
        "bars1.configure_title(fontSize=20,font='Courier',anchor='start',color='black')\n",
        "\n",
        "Month=bars1+text1.properties(title='Crime Reported Monthly from 2011-Current',height=400,width=700)\n",
        "Year=((bars+text).properties(title='Crime Reported Yearly from 2011-Current',height=400,width=700))\n",
        "\n",
        "((Year & Time.properties(height=400,width=700))& Month)"
      ],
      "execution_count": null,
      "outputs": [
        {
          "output_type": "execute_result",
          "data": {
            "text/html": [
              "\n",
              "<div id=\"altair-viz-7f1519bef35f4b359d66bb04105e3b21\"></div>\n",
              "<script type=\"text/javascript\">\n",
              "  (function(spec, embedOpt){\n",
              "    let outputDiv = document.currentScript.previousElementSibling;\n",
              "    if (outputDiv.id !== \"altair-viz-7f1519bef35f4b359d66bb04105e3b21\") {\n",
              "      outputDiv = document.getElementById(\"altair-viz-7f1519bef35f4b359d66bb04105e3b21\");\n",
              "    }\n",
              "    const paths = {\n",
              "      \"vega\": \"https://cdn.jsdelivr.net/npm//vega@5?noext\",\n",
              "      \"vega-lib\": \"https://cdn.jsdelivr.net/npm//vega-lib?noext\",\n",
              "      \"vega-lite\": \"https://cdn.jsdelivr.net/npm//vega-lite@4.8.1?noext\",\n",
              "      \"vega-embed\": \"https://cdn.jsdelivr.net/npm//vega-embed@6?noext\",\n",
              "    };\n",
              "\n",
              "    function loadScript(lib) {\n",
              "      return new Promise(function(resolve, reject) {\n",
              "        var s = document.createElement('script');\n",
              "        s.src = paths[lib];\n",
              "        s.async = true;\n",
              "        s.onload = () => resolve(paths[lib]);\n",
              "        s.onerror = () => reject(`Error loading script: ${paths[lib]}`);\n",
              "        document.getElementsByTagName(\"head\")[0].appendChild(s);\n",
              "      });\n",
              "    }\n",
              "\n",
              "    function showError(err) {\n",
              "      outputDiv.innerHTML = `<div class=\"error\" style=\"color:red;\">${err}</div>`;\n",
              "      throw err;\n",
              "    }\n",
              "\n",
              "    function displayChart(vegaEmbed) {\n",
              "      vegaEmbed(outputDiv, spec, embedOpt)\n",
              "        .catch(err => showError(`Javascript Error: ${err.message}<br>This usually means there's a typo in your chart specification. See the javascript console for the full traceback.`));\n",
              "    }\n",
              "\n",
              "    if(typeof define === \"function\" && define.amd) {\n",
              "      requirejs.config({paths});\n",
              "      require([\"vega-embed\"], displayChart, err => showError(`Error loading script: ${err.message}`));\n",
              "    } else if (typeof vegaEmbed === \"function\") {\n",
              "      displayChart(vegaEmbed);\n",
              "    } else {\n",
              "      loadScript(\"vega\")\n",
              "        .then(() => loadScript(\"vega-lite\"))\n",
              "        .then(() => loadScript(\"vega-embed\"))\n",
              "        .catch(showError)\n",
              "        .then(() => displayChart(vegaEmbed));\n",
              "    }\n",
              "  })({\"config\": {\"view\": {\"continuousWidth\": 400, \"continuousHeight\": 300}}, \"vconcat\": [{\"layer\": [{\"mark\": \"bar\", \"encoding\": {\"color\": {\"condition\": {\"type\": \"nominal\", \"field\": \"Year\", \"legend\": null, \"selection\": \"selector013\"}, \"value\": \"lightgray\"}, \"x\": {\"type\": \"temporal\", \"field\": \"CrimeDate\", \"timeUnit\": \"year\"}, \"y\": {\"type\": \"quantitative\", \"aggregate\": \"sum\", \"field\": \"Total Incidents\", \"sort\": \"y\", \"title\": null}}, \"selection\": {\"selector013\": {\"type\": \"multi\", \"encodings\": [\"color\"]}}}, {\"mark\": {\"type\": \"text\", \"align\": \"center\", \"baseline\": \"middle\", \"dx\": 30, \"dy\": -10, \"fontSize\": 15}, \"encoding\": {\"text\": {\"type\": \"quantitative\", \"aggregate\": \"count\"}, \"x\": {\"type\": \"temporal\", \"field\": \"CrimeDate\", \"timeUnit\": \"year\"}, \"y\": {\"type\": \"quantitative\", \"aggregate\": \"sum\", \"field\": \"Total Incidents\", \"sort\": \"y\", \"title\": null}}}], \"height\": 400, \"title\": \"Crime Reported Yearly from 2011-Current\", \"width\": 700}, {\"mark\": \"line\", \"encoding\": {\"color\": {\"type\": \"quantitative\", \"field\": \"Year\", \"legend\": null, \"scale\": {\"scheme\": \"dark2\"}}, \"strokeDash\": {\"type\": \"quantitative\", \"field\": \"Year\"}, \"x\": {\"type\": \"temporal\", \"field\": \"CrimeDate\"}, \"y\": {\"type\": \"quantitative\", \"aggregate\": \"sum\", \"field\": \"Total Incidents\"}}, \"height\": 400, \"selection\": {\"selector014\": {\"type\": \"interval\", \"bind\": \"scales\", \"encodings\": [\"x\", \"y\"]}}, \"transform\": [{\"filter\": {\"selection\": \"selector013\"}}], \"width\": 700}, {\"layer\": [{\"mark\": \"bar\", \"encoding\": {\"color\": {\"type\": \"nominal\", \"field\": \"Month\", \"legend\": null}, \"x\": {\"type\": \"temporal\", \"field\": \"CrimeDate\", \"timeUnit\": \"month\"}, \"y\": {\"type\": \"quantitative\", \"aggregate\": \"sum\", \"field\": \"Total Incidents\", \"title\": null}}}, {\"mark\": {\"type\": \"text\", \"align\": \"center\", \"baseline\": \"middle\", \"dx\": 30, \"dy\": -10, \"fontSize\": 15}, \"encoding\": {\"text\": {\"type\": \"quantitative\", \"aggregate\": \"sum\", \"field\": \"Total Incidents\"}, \"x\": {\"type\": \"temporal\", \"field\": \"CrimeDate\", \"timeUnit\": \"month\"}, \"y\": {\"type\": \"quantitative\", \"aggregate\": \"sum\", \"field\": \"Total Incidents\", \"title\": null}}, \"height\": 400, \"title\": \"Crime Reported Monthly from 2011-Current\", \"width\": 700}]}], \"data\": {\"url\": \"altair-data-3fec604394eb875eccc0ead8feea34e7.json\", \"format\": {\"type\": \"json\"}}, \"$schema\": \"https://vega.github.io/schema/vega-lite/v4.8.1.json\"}, {\"mode\": \"vega-lite\"});\n",
              "</script>"
            ],
            "text/plain": [
              "alt.VConcatChart(...)"
            ]
          },
          "metadata": {
            "tags": []
          },
          "execution_count": 20
        }
      ]
    },
    {
      "cell_type": "markdown",
      "metadata": {
        "id": "sI6Vj5esPnaJ"
      },
      "source": [
        "# Crime Looked at per-hour by day\n",
        "\n",
        "- Looking at the chart below I decided to create a heatmap for how much crime is committed over the course of the day in hours terms. \n",
        "- You can see below that the number of criminal acts are relatively low during the earlier morning from 2am-7am roughly. \n",
        "- As for the hot spots you see this from 12pm-11pm roughly, in according to this you will notice that there is a color change or if you will a graduate color change from 7am-12pm "
      ]
    },
    {
      "cell_type": "code",
      "metadata": {
        "scrolled": false,
        "id": "E_c6UgxtPnaK",
        "outputId": "943cf398-6f6b-4e12-f270-a6d865c703fa"
      },
      "source": [
        "alt.Chart(CrimeReport).mark_rect().encode(\n",
        "    x=alt.X('Hour'),\n",
        "    y=alt.Y('CrimeDate:O',timeUnit='date'),\n",
        "    color='count()',\n",
        "    column='Month'\n",
        ")"
      ],
      "execution_count": null,
      "outputs": [
        {
          "output_type": "execute_result",
          "data": {
            "text/html": [
              "\n",
              "<div id=\"altair-viz-80000e4c04e3419c8d7eb3697b114cfc\"></div>\n",
              "<script type=\"text/javascript\">\n",
              "  (function(spec, embedOpt){\n",
              "    let outputDiv = document.currentScript.previousElementSibling;\n",
              "    if (outputDiv.id !== \"altair-viz-80000e4c04e3419c8d7eb3697b114cfc\") {\n",
              "      outputDiv = document.getElementById(\"altair-viz-80000e4c04e3419c8d7eb3697b114cfc\");\n",
              "    }\n",
              "    const paths = {\n",
              "      \"vega\": \"https://cdn.jsdelivr.net/npm//vega@5?noext\",\n",
              "      \"vega-lib\": \"https://cdn.jsdelivr.net/npm//vega-lib?noext\",\n",
              "      \"vega-lite\": \"https://cdn.jsdelivr.net/npm//vega-lite@4.8.1?noext\",\n",
              "      \"vega-embed\": \"https://cdn.jsdelivr.net/npm//vega-embed@6?noext\",\n",
              "    };\n",
              "\n",
              "    function loadScript(lib) {\n",
              "      return new Promise(function(resolve, reject) {\n",
              "        var s = document.createElement('script');\n",
              "        s.src = paths[lib];\n",
              "        s.async = true;\n",
              "        s.onload = () => resolve(paths[lib]);\n",
              "        s.onerror = () => reject(`Error loading script: ${paths[lib]}`);\n",
              "        document.getElementsByTagName(\"head\")[0].appendChild(s);\n",
              "      });\n",
              "    }\n",
              "\n",
              "    function showError(err) {\n",
              "      outputDiv.innerHTML = `<div class=\"error\" style=\"color:red;\">${err}</div>`;\n",
              "      throw err;\n",
              "    }\n",
              "\n",
              "    function displayChart(vegaEmbed) {\n",
              "      vegaEmbed(outputDiv, spec, embedOpt)\n",
              "        .catch(err => showError(`Javascript Error: ${err.message}<br>This usually means there's a typo in your chart specification. See the javascript console for the full traceback.`));\n",
              "    }\n",
              "\n",
              "    if(typeof define === \"function\" && define.amd) {\n",
              "      requirejs.config({paths});\n",
              "      require([\"vega-embed\"], displayChart, err => showError(`Error loading script: ${err.message}`));\n",
              "    } else if (typeof vegaEmbed === \"function\") {\n",
              "      displayChart(vegaEmbed);\n",
              "    } else {\n",
              "      loadScript(\"vega\")\n",
              "        .then(() => loadScript(\"vega-lite\"))\n",
              "        .then(() => loadScript(\"vega-embed\"))\n",
              "        .catch(showError)\n",
              "        .then(() => displayChart(vegaEmbed));\n",
              "    }\n",
              "  })({\"config\": {\"view\": {\"continuousWidth\": 400, \"continuousHeight\": 300}}, \"data\": {\"url\": \"altair-data-3fec604394eb875eccc0ead8feea34e7.json\", \"format\": {\"type\": \"json\"}}, \"mark\": \"rect\", \"encoding\": {\"color\": {\"type\": \"quantitative\", \"aggregate\": \"count\"}, \"column\": {\"type\": \"nominal\", \"field\": \"Month\"}, \"x\": {\"type\": \"nominal\", \"field\": \"Hour\"}, \"y\": {\"type\": \"ordinal\", \"field\": \"CrimeDate\", \"timeUnit\": \"date\"}}, \"$schema\": \"https://vega.github.io/schema/vega-lite/v4.8.1.json\"}, {\"mode\": \"vega-lite\"});\n",
              "</script>"
            ],
            "text/plain": [
              "alt.Chart(...)"
            ]
          },
          "metadata": {
            "tags": []
          },
          "execution_count": 12
        }
      ]
    },
    {
      "cell_type": "markdown",
      "metadata": {
        "id": "OmOPT9r8PnaM"
      },
      "source": [
        "## Here is the breakdown of the three highest years in Baltimore City\n",
        "\n",
        "- Below you will see the three highest years of crime in Baltimore City brokendown by the nine districts \n",
        "- You will also notice that the Northeastern & Southeastern district is still the highest reporting district in criminal activity\n",
        "- There could be a reason for this however, this will be looked into more from phase two of this report. "
      ]
    },
    {
      "cell_type": "code",
      "metadata": {
        "scrolled": true,
        "id": "HjYi5P4ePnaM",
        "outputId": "b7b1c181-2d1b-4972-c710-db175afb56ec"
      },
      "source": [
        "base=alt.Chart(CrimeReport).mark_bar().encode(x=alt.X('sum(Total Incidents)',title=None),y=alt.Y('District',sort='-x',title='Baltimore City Districts'),color=alt.Color('District:N',legend=None),tooltip=['sum(Total Incidents):Q','District'],column='Year').transform_filter(alt.FieldOneOfPredicate(field='Year', oneOf=[2014,2015,2016]))\n",
        "bars.configure_title(fontSize=20,font='Courier',anchor='start',color='black')\n",
        "\n",
        "base.properties(height=400,width=800)"
      ],
      "execution_count": null,
      "outputs": [
        {
          "output_type": "execute_result",
          "data": {
            "text/html": [
              "\n",
              "<div id=\"altair-viz-922fe910716543ee9e66152110498dbe\"></div>\n",
              "<script type=\"text/javascript\">\n",
              "  (function(spec, embedOpt){\n",
              "    let outputDiv = document.currentScript.previousElementSibling;\n",
              "    if (outputDiv.id !== \"altair-viz-922fe910716543ee9e66152110498dbe\") {\n",
              "      outputDiv = document.getElementById(\"altair-viz-922fe910716543ee9e66152110498dbe\");\n",
              "    }\n",
              "    const paths = {\n",
              "      \"vega\": \"https://cdn.jsdelivr.net/npm//vega@5?noext\",\n",
              "      \"vega-lib\": \"https://cdn.jsdelivr.net/npm//vega-lib?noext\",\n",
              "      \"vega-lite\": \"https://cdn.jsdelivr.net/npm//vega-lite@4.8.1?noext\",\n",
              "      \"vega-embed\": \"https://cdn.jsdelivr.net/npm//vega-embed@6?noext\",\n",
              "    };\n",
              "\n",
              "    function loadScript(lib) {\n",
              "      return new Promise(function(resolve, reject) {\n",
              "        var s = document.createElement('script');\n",
              "        s.src = paths[lib];\n",
              "        s.async = true;\n",
              "        s.onload = () => resolve(paths[lib]);\n",
              "        s.onerror = () => reject(`Error loading script: ${paths[lib]}`);\n",
              "        document.getElementsByTagName(\"head\")[0].appendChild(s);\n",
              "      });\n",
              "    }\n",
              "\n",
              "    function showError(err) {\n",
              "      outputDiv.innerHTML = `<div class=\"error\" style=\"color:red;\">${err}</div>`;\n",
              "      throw err;\n",
              "    }\n",
              "\n",
              "    function displayChart(vegaEmbed) {\n",
              "      vegaEmbed(outputDiv, spec, embedOpt)\n",
              "        .catch(err => showError(`Javascript Error: ${err.message}<br>This usually means there's a typo in your chart specification. See the javascript console for the full traceback.`));\n",
              "    }\n",
              "\n",
              "    if(typeof define === \"function\" && define.amd) {\n",
              "      requirejs.config({paths});\n",
              "      require([\"vega-embed\"], displayChart, err => showError(`Error loading script: ${err.message}`));\n",
              "    } else if (typeof vegaEmbed === \"function\") {\n",
              "      displayChart(vegaEmbed);\n",
              "    } else {\n",
              "      loadScript(\"vega\")\n",
              "        .then(() => loadScript(\"vega-lite\"))\n",
              "        .then(() => loadScript(\"vega-embed\"))\n",
              "        .catch(showError)\n",
              "        .then(() => displayChart(vegaEmbed));\n",
              "    }\n",
              "  })({\"config\": {\"view\": {\"continuousWidth\": 400, \"continuousHeight\": 300}}, \"data\": {\"url\": \"altair-data-3fec604394eb875eccc0ead8feea34e7.json\", \"format\": {\"type\": \"json\"}}, \"mark\": \"bar\", \"encoding\": {\"color\": {\"type\": \"nominal\", \"field\": \"District\", \"legend\": null}, \"column\": {\"type\": \"quantitative\", \"field\": \"Year\"}, \"tooltip\": [{\"type\": \"quantitative\", \"aggregate\": \"sum\", \"field\": \"Total Incidents\"}, {\"type\": \"nominal\", \"field\": \"District\"}], \"x\": {\"type\": \"quantitative\", \"aggregate\": \"sum\", \"field\": \"Total Incidents\", \"title\": null}, \"y\": {\"type\": \"nominal\", \"field\": \"District\", \"sort\": \"-x\", \"title\": \"Baltimore City Districts\"}}, \"height\": 400, \"transform\": [{\"filter\": {\"field\": \"Year\", \"oneOf\": [2014, 2015, 2016]}}], \"width\": 800, \"$schema\": \"https://vega.github.io/schema/vega-lite/v4.8.1.json\"}, {\"mode\": \"vega-lite\"});\n",
              "</script>"
            ],
            "text/plain": [
              "alt.Chart(...)"
            ]
          },
          "metadata": {
            "tags": []
          },
          "execution_count": 13
        }
      ]
    },
    {
      "cell_type": "code",
      "metadata": {
        "scrolled": true,
        "id": "SczLlmvIPnaO",
        "outputId": "2002eb51-4a90-4c65-eb9a-fffa1c63eddd"
      },
      "source": [
        "base=alt.Chart(CrimeReport).mark_bar().encode(x=alt.X('sum(Total Incidents)',title=None),y=alt.Y('Description',sort='-x',title='Types of Crime'),color=alt.Color('Description:N',legend=None),tooltip=['sum(Total Incidents):Q','Description'],column='Year').transform_filter(alt.FieldOneOfPredicate(field='Year', oneOf=[2014,2015,2016]))\n",
        "bars.configure_title(fontSize=20,font='Courier',anchor='start',color='black')\n",
        "\n",
        "base.properties(height=400,width=800)"
      ],
      "execution_count": null,
      "outputs": [
        {
          "output_type": "execute_result",
          "data": {
            "text/html": [
              "\n",
              "<div id=\"altair-viz-512eb1abcfb44d638ddc3c5a8afb5b55\"></div>\n",
              "<script type=\"text/javascript\">\n",
              "  (function(spec, embedOpt){\n",
              "    let outputDiv = document.currentScript.previousElementSibling;\n",
              "    if (outputDiv.id !== \"altair-viz-512eb1abcfb44d638ddc3c5a8afb5b55\") {\n",
              "      outputDiv = document.getElementById(\"altair-viz-512eb1abcfb44d638ddc3c5a8afb5b55\");\n",
              "    }\n",
              "    const paths = {\n",
              "      \"vega\": \"https://cdn.jsdelivr.net/npm//vega@5?noext\",\n",
              "      \"vega-lib\": \"https://cdn.jsdelivr.net/npm//vega-lib?noext\",\n",
              "      \"vega-lite\": \"https://cdn.jsdelivr.net/npm//vega-lite@4.8.1?noext\",\n",
              "      \"vega-embed\": \"https://cdn.jsdelivr.net/npm//vega-embed@6?noext\",\n",
              "    };\n",
              "\n",
              "    function loadScript(lib) {\n",
              "      return new Promise(function(resolve, reject) {\n",
              "        var s = document.createElement('script');\n",
              "        s.src = paths[lib];\n",
              "        s.async = true;\n",
              "        s.onload = () => resolve(paths[lib]);\n",
              "        s.onerror = () => reject(`Error loading script: ${paths[lib]}`);\n",
              "        document.getElementsByTagName(\"head\")[0].appendChild(s);\n",
              "      });\n",
              "    }\n",
              "\n",
              "    function showError(err) {\n",
              "      outputDiv.innerHTML = `<div class=\"error\" style=\"color:red;\">${err}</div>`;\n",
              "      throw err;\n",
              "    }\n",
              "\n",
              "    function displayChart(vegaEmbed) {\n",
              "      vegaEmbed(outputDiv, spec, embedOpt)\n",
              "        .catch(err => showError(`Javascript Error: ${err.message}<br>This usually means there's a typo in your chart specification. See the javascript console for the full traceback.`));\n",
              "    }\n",
              "\n",
              "    if(typeof define === \"function\" && define.amd) {\n",
              "      requirejs.config({paths});\n",
              "      require([\"vega-embed\"], displayChart, err => showError(`Error loading script: ${err.message}`));\n",
              "    } else if (typeof vegaEmbed === \"function\") {\n",
              "      displayChart(vegaEmbed);\n",
              "    } else {\n",
              "      loadScript(\"vega\")\n",
              "        .then(() => loadScript(\"vega-lite\"))\n",
              "        .then(() => loadScript(\"vega-embed\"))\n",
              "        .catch(showError)\n",
              "        .then(() => displayChart(vegaEmbed));\n",
              "    }\n",
              "  })({\"config\": {\"view\": {\"continuousWidth\": 400, \"continuousHeight\": 300}}, \"data\": {\"url\": \"altair-data-3fec604394eb875eccc0ead8feea34e7.json\", \"format\": {\"type\": \"json\"}}, \"mark\": \"bar\", \"encoding\": {\"color\": {\"type\": \"nominal\", \"field\": \"Description\", \"legend\": null}, \"column\": {\"type\": \"quantitative\", \"field\": \"Year\"}, \"tooltip\": [{\"type\": \"quantitative\", \"aggregate\": \"sum\", \"field\": \"Total Incidents\"}, {\"type\": \"nominal\", \"field\": \"Description\"}], \"x\": {\"type\": \"quantitative\", \"aggregate\": \"sum\", \"field\": \"Total Incidents\", \"title\": null}, \"y\": {\"type\": \"nominal\", \"field\": \"Description\", \"sort\": \"-x\", \"title\": \"Types of Crime\"}}, \"height\": 400, \"transform\": [{\"filter\": {\"field\": \"Year\", \"oneOf\": [2014, 2015, 2016]}}], \"width\": 800, \"$schema\": \"https://vega.github.io/schema/vega-lite/v4.8.1.json\"}, {\"mode\": \"vega-lite\"});\n",
              "</script>"
            ],
            "text/plain": [
              "alt.Chart(...)"
            ]
          },
          "metadata": {
            "tags": []
          },
          "execution_count": 14
        }
      ]
    }
  ]
}