{
 "cells": [
  {
   "cell_type": "markdown",
   "metadata": {},
   "source": [
    "# *Top and bottom level analysis for Baltimore City Crime*\n",
    "\n",
    "## Importing Packages\n",
    "- Below you will see the following packages I will be using for my report on Baltimore City Crime.\n",
    "- I will be using the package csv to read in my dataset due to it being a csv file. Also I will be using Seaborn package because of the high level customization along with the vizualization power it contains. \n",
    "- You will also see that I am disabling the max rows because I am using a dataset that is very large (500,000 records). \n",
    "- Now you will also see that I am enabling json. I am doing this because it will help handle my large dataset so that I can create visualization will out crashing the notebook. "
   ]
  },
  {
   "cell_type": "code",
   "execution_count": 1,
   "metadata": {},
   "outputs": [
    {
     "data": {
      "text/plain": [
       "DataTransformerRegistry.enable('json')"
      ]
     },
     "execution_count": 1,
     "metadata": {},
     "output_type": "execute_result"
    }
   ],
   "source": [
    "import csv\n",
    "import pandas as pd\n",
    "import altair as alt\n",
    "from altair import datum\n",
    "alt.data_transformers.disable_max_rows()\n",
    "alt.data_transformers.enable('json')"
   ]
  },
  {
   "cell_type": "markdown",
   "metadata": {},
   "source": [
    "## Taking in the Data\n",
    "- The code you see below is me reading in two csv files containing criminal activity from by 2011-2016 and 1965-2020 within Baltimore City.\n",
    "- You then will see me reading in certain columns of data from the csvs. I am doing this because between the two files only what is listed in the code below is shared amoung the two files.\n",
    "- I then created a variable called \"CrimeReport\" this variable will be used to house the two csv file's data after is has been merged. \n",
    "- Once I mergered the two files into one I then drop any duplicates from the CrimeReport dataframe so that I can have a more accurate data set to work from. \n",
    "- Finally, I export the CrimeReport dataframe into it's own csv to save on memory. "
   ]
  },
  {
   "cell_type": "code",
   "execution_count": 2,
   "metadata": {},
   "outputs": [],
   "source": [
    "Report_2011_2016 = pd.read_csv(\"BPD_Crime_2011-2016.csv\", usecols = ['CrimeDate','CrimeTime','CrimeCode','Description','Inside/Outside','Weapon','District','Neighborhood','Total Incidents'])\n",
    "Report_2014_2020 = pd.read_csv(\"BPD_Part_1_Victim_Based_Crime_Data.csv\",usecols = ['CrimeDate','CrimeTime','CrimeCode','Description','Inside/Outside','Weapon','District','Neighborhood','Total Incidents'])\n",
    "CrimeReport = pd.DataFrame()\n",
    "CrimeReport = pd.concat([Report_2011_2016,Report_2014_2020])\n",
    "CrimeReport = CrimeReport.drop_duplicates(['CrimeDate','CrimeTime','CrimeCode','Description','Inside/Outside','Weapon','District','Neighborhood','Total Incidents'])\n",
    "CrimeReport.to_csv(\"Baltimore City Crime Report 2011-2020.csv\", index=False)"
   ]
  },
  {
   "cell_type": "markdown",
   "metadata": {},
   "source": [
    "## Cleaning Data Part 1\n",
    " - First line you will see me reading in the new csv file using the variable CrimeReport. \n",
    " - The next six lines you will see me cleaning and adding columns in the data set, I changed all \"NaN\" values to unknown or not reported to see from a reporting standpoint how much data is missed. \n",
    " - Last two lines me filtering out any row of data that does not contain the year 2011 or greater. This is done due to the years before 2011 only containing partial entries. I did not want this to mess up the metric portion of my charts down the line in the project.  "
   ]
  },
  {
   "cell_type": "code",
   "execution_count": 3,
   "metadata": {},
   "outputs": [],
   "source": [
    "CrimeReport = pd.read_csv(\"Baltimore City Crime Report 2011-2020.csv\")\n",
    "CrimeReport['Hour'] = CrimeReport['CrimeTime'].str[0:2]\n",
    "CrimeReport['Month'] = CrimeReport['CrimeDate'].str[0:2]\n",
    "CrimeReport['Year'] = CrimeReport['CrimeDate'].str[6:].astype('int64')\n",
    "CrimeReport['CrimeDate'] = pd.to_datetime(CrimeReport['CrimeDate'],format='%m/%d/%Y')\n",
    "CrimeReport['District'] = CrimeReport['District'].fillna('Unknown')\n",
    "CrimeReport['Weapon'] = CrimeReport['Weapon'].fillna('Unknown')\n",
    "CrimeReport['Inside/Outside'] = CrimeReport['Inside/Outside'].fillna('Unknown')\n",
    "CrimeReport['Neighborhood'] = CrimeReport['Neighborhood'].fillna('No Neighborhood')\n",
    "Index=CrimeReport[CrimeReport['Year'] < 2011 ].index\n",
    "CrimeReport.drop(Index,inplace=True)\n",
    "CrimeReport.to_csv(\"Baltimore City Crime Report 2011-2020.csv\", index=False)"
   ]
  },
  {
   "cell_type": "markdown",
   "metadata": {},
   "source": [
    "## Cleaning Data Part 2\n",
    "- You will see the two lines below that I am sorting the data in the frame to ascend with the latest year and time a crime was committed. "
   ]
  },
  {
   "cell_type": "code",
   "execution_count": 5,
   "metadata": {},
   "outputs": [],
   "source": [
    "CrimeReport = CrimeReport.sort_values(by=['Year','CrimeDate'],ascending=False)\n",
    "CrimeReport = CrimeReport.reset_index(drop=True)"
   ]
  },
  {
   "cell_type": "markdown",
   "metadata": {},
   "source": [
    "## Cleaning Data Part 3\n",
    "- The following block of code you will see that I am replacing alot of data values with in certain columns. The reason for this is that certain columns such as the 'District' would have the same district but miss spelled. So I went in and replace all data strings to match a uniformed string so that mertics later on are not mis leading or incorrect. "
   ]
  },
  {
   "cell_type": "code",
   "execution_count": 6,
   "metadata": {},
   "outputs": [],
   "source": [
    "replacements=[(\"I\", \"Inside\"),(\"O\", \"Outside\"),('UNKNOWN','unknown'),('Unknown','unknown'),('Central','CENTRAL'),\n",
    "              ('NORTHEAST','NORTHEASTERN'),('NORTHESTERN','NORTHEASTERN'),('NORTHWEST','NORTHWESTERN'),\n",
    "              ('BELAIR-EDISON','Belair-Edison'),('BROOKLYN','Brooklyn'),('CANTON','Canton'),('CHERRY HILL','Cherry Hill'),\n",
    "              ('COLDSTREAM HOMESTEAD','Coldstream Homestead Montebello'),('DOWNTOWN','Downtown'),('FELLS POINT','Fells Point'),\n",
    "              ('FRANKFORD','Frankford'),('INNER HARBOR','Inner Harbor'),('SANDTOWN-WINCHESTER','Sandtown-Winchester'),('UPTON','Upton'),\n",
    "              ('WASHINGTON VILLAGE','Washington Village/Pigtown'),('BROADWAY EAST','Broadway East'),('CARROLLTON RIDGE','Carrollton Ridge'),\n",
    "              ('CENTRAL PARK HEIGHTS','Central Park Heights'),('CHARLES VILLAGE','Charles Village'),('EAST BALTIMORE MIDWA','East Baltimore Midway'),\n",
    "              ('ELLWOOD PARK/MONUMEN','Ellwood Park/Monument'),('HAMPDEN','Hampden'),('MONDAWMIN','Mondawmin'),('MOUNT VERNON','Mount Vernon'),\n",
    "              ('MID-TOWN BELVEDERE','Mid-Town Belvedere'),('MCELDERRY PARK','McElderry Park'),('OLIVER','Oliver'),('RESERVOIR HILL','Reservoir Hill'),\n",
    "              ('SOUTHEAST','SOUTHEASTERN'),('SOUTHESTERN','SOUTHEASTERN'),('SOUTHWEST','SOUTHWESTERN'),('Gay Street','CENTRAL'),(\"FIRE\", \"FIREARM\")]\n",
    "for each_replacement in replacements:\n",
    "    assert len(each_replacement) == 2 and isinstance(each_replacement, tuple)\n",
    "    CrimeReport.replace(each_replacement[0], each_replacement[1], inplace=True)"
   ]
  },
  {
   "cell_type": "markdown",
   "metadata": {},
   "source": [
    "## TOP-LEVEL VIEW OF THE CRIME IN BALTIMORE CITY FROM DIFFERENT FILTERS"
   ]
  },
  {
   "cell_type": "markdown",
   "metadata": {},
   "source": [
    "## Criminal Activity Reported by Districts from 2011-2020\n",
    "- You will see from the bar graph below that the Northeastern district out of all 9 Baltimore City districts is the most dangerous with a report of over 80,000+ reports from 2011-2020.\n",
    "- You will also find that the Southeastern district comes to be a close second will almost 75,000+ reports.\n",
    "- Now at the very bottom you will see a unknown mark. This is the marker with the amount of criminal reports that were not reported with a district. Some questions here could be made as to why is this so and how can we make sure that we each report is place at the correct location. "
   ]
  },
  {
   "cell_type": "code",
   "execution_count": 44,
   "metadata": {
    "scrolled": true
   },
   "outputs": [
    {
     "data": {
      "text/html": [
       "\n",
       "<div id=\"altair-viz-10d0d08e09664ba6bff93689065375f5\"></div>\n",
       "<script type=\"text/javascript\">\n",
       "  (function(spec, embedOpt){\n",
       "    let outputDiv = document.currentScript.previousElementSibling;\n",
       "    if (outputDiv.id !== \"altair-viz-10d0d08e09664ba6bff93689065375f5\") {\n",
       "      outputDiv = document.getElementById(\"altair-viz-10d0d08e09664ba6bff93689065375f5\");\n",
       "    }\n",
       "    const paths = {\n",
       "      \"vega\": \"https://cdn.jsdelivr.net/npm//vega@5?noext\",\n",
       "      \"vega-lib\": \"https://cdn.jsdelivr.net/npm//vega-lib?noext\",\n",
       "      \"vega-lite\": \"https://cdn.jsdelivr.net/npm//vega-lite@4.8.1?noext\",\n",
       "      \"vega-embed\": \"https://cdn.jsdelivr.net/npm//vega-embed@6?noext\",\n",
       "    };\n",
       "\n",
       "    function loadScript(lib) {\n",
       "      return new Promise(function(resolve, reject) {\n",
       "        var s = document.createElement('script');\n",
       "        s.src = paths[lib];\n",
       "        s.async = true;\n",
       "        s.onload = () => resolve(paths[lib]);\n",
       "        s.onerror = () => reject(`Error loading script: ${paths[lib]}`);\n",
       "        document.getElementsByTagName(\"head\")[0].appendChild(s);\n",
       "      });\n",
       "    }\n",
       "\n",
       "    function showError(err) {\n",
       "      outputDiv.innerHTML = `<div class=\"error\" style=\"color:red;\">${err}</div>`;\n",
       "      throw err;\n",
       "    }\n",
       "\n",
       "    function displayChart(vegaEmbed) {\n",
       "      vegaEmbed(outputDiv, spec, embedOpt)\n",
       "        .catch(err => showError(`Javascript Error: ${err.message}<br>This usually means there's a typo in your chart specification. See the javascript console for the full traceback.`));\n",
       "    }\n",
       "\n",
       "    if(typeof define === \"function\" && define.amd) {\n",
       "      requirejs.config({paths});\n",
       "      require([\"vega-embed\"], displayChart, err => showError(`Error loading script: ${err.message}`));\n",
       "    } else if (typeof vegaEmbed === \"function\") {\n",
       "      displayChart(vegaEmbed);\n",
       "    } else {\n",
       "      loadScript(\"vega\")\n",
       "        .then(() => loadScript(\"vega-lite\"))\n",
       "        .then(() => loadScript(\"vega-embed\"))\n",
       "        .catch(showError)\n",
       "        .then(() => displayChart(vegaEmbed));\n",
       "    }\n",
       "  })({\"config\": {\"view\": {\"continuousWidth\": 400, \"continuousHeight\": 300}}, \"layer\": [{\"mark\": \"bar\", \"encoding\": {\"color\": {\"type\": \"nominal\", \"field\": \"District\", \"legend\": null}, \"x\": {\"type\": \"quantitative\", \"aggregate\": \"sum\", \"field\": \"Total Incidents\", \"title\": null}, \"y\": {\"type\": \"nominal\", \"field\": \"District\", \"sort\": \"-x\", \"title\": \"Baltimore City Districts\"}}, \"title\": \"Crime Reported by District from 2011-Current\"}, {\"mark\": {\"type\": \"text\", \"align\": \"left\", \"baseline\": \"middle\", \"dx\": 3, \"fontSize\": 15}, \"encoding\": {\"text\": {\"type\": \"quantitative\", \"aggregate\": \"count\"}, \"x\": {\"type\": \"quantitative\", \"aggregate\": \"sum\", \"field\": \"Total Incidents\", \"title\": null}, \"y\": {\"type\": \"nominal\", \"field\": \"District\", \"sort\": \"-x\", \"title\": \"Baltimore City Districts\"}}, \"title\": \"Crime Reported by District from 2011-Current\"}], \"data\": {\"url\": \"altair-data-3fec604394eb875eccc0ead8feea34e7.json\", \"format\": {\"type\": \"json\"}}, \"height\": 500, \"width\": 800, \"$schema\": \"https://vega.github.io/schema/vega-lite/v4.8.1.json\"}, {\"mode\": \"vega-lite\"});\n",
       "</script>"
      ],
      "text/plain": [
       "alt.LayerChart(...)"
      ]
     },
     "execution_count": 44,
     "metadata": {},
     "output_type": "execute_result"
    }
   ],
   "source": [
    "base=alt.Chart(CrimeReport).encode(x=alt.X('sum(Total Incidents)',title=None),y=alt.Y('District',sort='-x',title='Baltimore City Districts')).properties(title='Crime Reported by District from 2011-Current')\n",
    "bars=base.mark_bar().encode(color=alt.Color('District:N',legend=None))\n",
    "text=base.mark_text(align='left',baseline='middle',dx=3,fontSize=15,).encode(text='count()')\n",
    "bars.configure_title(fontSize=20,font='Courier',anchor='start',color='black')\n",
    "\n",
    "(bars+text).properties(height=500,width=800)"
   ]
  },
  {
   "cell_type": "markdown",
   "metadata": {},
   "source": [
    "## Criminal Activity from the Nine of the most active Neighborhoods in Baltimore City.\n",
    "\n",
    "- We can see that from the report Downtown is the holder for most reported cases with 17,500+ reports"
   ]
  },
  {
   "cell_type": "code",
   "execution_count": 8,
   "metadata": {
    "scrolled": true
   },
   "outputs": [
    {
     "data": {
      "text/html": [
       "\n",
       "<div id=\"altair-viz-fca1d19177224f8f8713e2345316d2e5\"></div>\n",
       "<script type=\"text/javascript\">\n",
       "  (function(spec, embedOpt){\n",
       "    let outputDiv = document.currentScript.previousElementSibling;\n",
       "    if (outputDiv.id !== \"altair-viz-fca1d19177224f8f8713e2345316d2e5\") {\n",
       "      outputDiv = document.getElementById(\"altair-viz-fca1d19177224f8f8713e2345316d2e5\");\n",
       "    }\n",
       "    const paths = {\n",
       "      \"vega\": \"https://cdn.jsdelivr.net/npm//vega@5?noext\",\n",
       "      \"vega-lib\": \"https://cdn.jsdelivr.net/npm//vega-lib?noext\",\n",
       "      \"vega-lite\": \"https://cdn.jsdelivr.net/npm//vega-lite@4.8.1?noext\",\n",
       "      \"vega-embed\": \"https://cdn.jsdelivr.net/npm//vega-embed@6?noext\",\n",
       "    };\n",
       "\n",
       "    function loadScript(lib) {\n",
       "      return new Promise(function(resolve, reject) {\n",
       "        var s = document.createElement('script');\n",
       "        s.src = paths[lib];\n",
       "        s.async = true;\n",
       "        s.onload = () => resolve(paths[lib]);\n",
       "        s.onerror = () => reject(`Error loading script: ${paths[lib]}`);\n",
       "        document.getElementsByTagName(\"head\")[0].appendChild(s);\n",
       "      });\n",
       "    }\n",
       "\n",
       "    function showError(err) {\n",
       "      outputDiv.innerHTML = `<div class=\"error\" style=\"color:red;\">${err}</div>`;\n",
       "      throw err;\n",
       "    }\n",
       "\n",
       "    function displayChart(vegaEmbed) {\n",
       "      vegaEmbed(outputDiv, spec, embedOpt)\n",
       "        .catch(err => showError(`Javascript Error: ${err.message}<br>This usually means there's a typo in your chart specification. See the javascript console for the full traceback.`));\n",
       "    }\n",
       "\n",
       "    if(typeof define === \"function\" && define.amd) {\n",
       "      requirejs.config({paths});\n",
       "      require([\"vega-embed\"], displayChart, err => showError(`Error loading script: ${err.message}`));\n",
       "    } else if (typeof vegaEmbed === \"function\") {\n",
       "      displayChart(vegaEmbed);\n",
       "    } else {\n",
       "      loadScript(\"vega\")\n",
       "        .then(() => loadScript(\"vega-lite\"))\n",
       "        .then(() => loadScript(\"vega-embed\"))\n",
       "        .catch(showError)\n",
       "        .then(() => displayChart(vegaEmbed));\n",
       "    }\n",
       "  })({\"config\": {\"view\": {\"continuousWidth\": 400, \"continuousHeight\": 300}}, \"data\": {\"url\": \"altair-data-3fec604394eb875eccc0ead8feea34e7.json\", \"format\": {\"type\": \"json\"}}, \"mark\": \"bar\", \"encoding\": {\"color\": {\"type\": \"nominal\", \"field\": \"Neighborhood\", \"legend\": null}, \"tooltip\": [{\"type\": \"quantitative\", \"field\": \"Total_Incidents\"}, {\"type\": \"nominal\", \"field\": \"District\"}], \"x\": {\"type\": \"quantitative\", \"field\": \"Total_Incidents\", \"title\": null}, \"y\": {\"type\": \"nominal\", \"field\": \"Neighborhood\", \"sort\": \"-x\", \"title\": \"Baltimore City Neighborhood\"}}, \"height\": 500, \"title\": \"Top 7 Highest Crime Reported Neighborhoods from 2011-Current\", \"transform\": [{\"aggregate\": [{\"op\": \"sum\", \"field\": \"Total Incidents\", \"as\": \"Total_Incidents\"}], \"groupby\": [\"Neighborhood\", \"District\"]}, {\"filter\": \"datum.Total_Incidents > 7000\"}], \"width\": 800, \"$schema\": \"https://vega.github.io/schema/vega-lite/v4.8.1.json\"}, {\"mode\": \"vega-lite\"});\n",
       "</script>"
      ],
      "text/plain": [
       "alt.Chart(...)"
      ]
     },
     "execution_count": 8,
     "metadata": {},
     "output_type": "execute_result"
    }
   ],
   "source": [
    "base=alt.Chart(CrimeReport).transform_aggregate(Total_Incidents='sum(Total Incidents)',groupby=['Neighborhood','District'],).transform_filter(\"datum.Total_Incidents > 7000\").properties(title='Top 7 Highest Crime Reported Neighborhoods from 2011-Current')\n",
    "bars=base.mark_bar().encode(x=alt.X('Total_Incidents:Q',title=None),y=alt.Y('Neighborhood',title='Baltimore City Neighborhood',sort='-x'),color=alt.Color('Neighborhood:N',legend=None),tooltip=['Total_Incidents:Q','District'])\n",
    "bars.configure_title(fontSize=20,font='Courier',anchor='start',color='black')\n",
    "\n",
    "bars.properties(height=500,width=800)"
   ]
  },
  {
   "cell_type": "markdown",
   "metadata": {},
   "source": [
    "## Weapons reported being used in criminal offenses from 2011-2020\n",
    "\n",
    "- As you can see between the Knife, Other, Firearm, and hands no type total reached over 50,000 from 2011-2020.\n",
    "- Interesting to find is that more crimes were committed where the weapon used was by an unknown type that was not entried in. \n",
    "- On the other hand you will see that there were closet to over 400,000 reports that did not list whether or not a weapon was used in the criminal act. \n",
    "- Some questions can be asked here such as why and how are we reporting almost 400,000 unknown weapon types listed from 2011-2020. \n",
    "- I also wanted to know what of these weapon types were committed either insided or outside by rowing out the graph by the \"Inside/Outside\" data column. \n",
    "- The strange but interesting part is that there is a substantial amount of weapons types plus unknown that is not being properly reported whether it happened in or outside. Along with the other graphs unknown weapon types are very significant. "
   ]
  },
  {
   "cell_type": "code",
   "execution_count": 130,
   "metadata": {
    "scrolled": true
   },
   "outputs": [
    {
     "data": {
      "text/html": [
       "\n",
       "<div id=\"altair-viz-ef3e21e70f51442d854e450a8df78f04\"></div>\n",
       "<script type=\"text/javascript\">\n",
       "  (function(spec, embedOpt){\n",
       "    let outputDiv = document.currentScript.previousElementSibling;\n",
       "    if (outputDiv.id !== \"altair-viz-ef3e21e70f51442d854e450a8df78f04\") {\n",
       "      outputDiv = document.getElementById(\"altair-viz-ef3e21e70f51442d854e450a8df78f04\");\n",
       "    }\n",
       "    const paths = {\n",
       "      \"vega\": \"https://cdn.jsdelivr.net/npm//vega@5?noext\",\n",
       "      \"vega-lib\": \"https://cdn.jsdelivr.net/npm//vega-lib?noext\",\n",
       "      \"vega-lite\": \"https://cdn.jsdelivr.net/npm//vega-lite@4.8.1?noext\",\n",
       "      \"vega-embed\": \"https://cdn.jsdelivr.net/npm//vega-embed@6?noext\",\n",
       "    };\n",
       "\n",
       "    function loadScript(lib) {\n",
       "      return new Promise(function(resolve, reject) {\n",
       "        var s = document.createElement('script');\n",
       "        s.src = paths[lib];\n",
       "        s.async = true;\n",
       "        s.onload = () => resolve(paths[lib]);\n",
       "        s.onerror = () => reject(`Error loading script: ${paths[lib]}`);\n",
       "        document.getElementsByTagName(\"head\")[0].appendChild(s);\n",
       "      });\n",
       "    }\n",
       "\n",
       "    function showError(err) {\n",
       "      outputDiv.innerHTML = `<div class=\"error\" style=\"color:red;\">${err}</div>`;\n",
       "      throw err;\n",
       "    }\n",
       "\n",
       "    function displayChart(vegaEmbed) {\n",
       "      vegaEmbed(outputDiv, spec, embedOpt)\n",
       "        .catch(err => showError(`Javascript Error: ${err.message}<br>This usually means there's a typo in your chart specification. See the javascript console for the full traceback.`));\n",
       "    }\n",
       "\n",
       "    if(typeof define === \"function\" && define.amd) {\n",
       "      requirejs.config({paths});\n",
       "      require([\"vega-embed\"], displayChart, err => showError(`Error loading script: ${err.message}`));\n",
       "    } else if (typeof vegaEmbed === \"function\") {\n",
       "      displayChart(vegaEmbed);\n",
       "    } else {\n",
       "      loadScript(\"vega\")\n",
       "        .then(() => loadScript(\"vega-lite\"))\n",
       "        .then(() => loadScript(\"vega-embed\"))\n",
       "        .catch(showError)\n",
       "        .then(() => displayChart(vegaEmbed));\n",
       "    }\n",
       "  })({\"config\": {\"view\": {\"continuousWidth\": 400, \"continuousHeight\": 300}}, \"data\": {\"url\": \"altair-data-3fec604394eb875eccc0ead8feea34e7.json\", \"format\": {\"type\": \"json\"}}, \"mark\": \"bar\", \"encoding\": {\"color\": {\"type\": \"nominal\", \"field\": \"Weapon\", \"legend\": null}, \"column\": {\"type\": \"nominal\", \"field\": \"Inside/Outside\"}, \"tooltip\": [{\"type\": \"quantitative\", \"aggregate\": \"sum\", \"field\": \"Total Incidents\"}], \"x\": {\"type\": \"quantitative\", \"aggregate\": \"sum\", \"field\": \"Total Incidents\", \"title\": null}, \"y\": {\"type\": \"nominal\", \"field\": \"Weapon\", \"sort\": \"-x\", \"title\": \"Weapon Type\"}}, \"height\": 300, \"title\": \"Weapon counts reported in Crime Report from 2011-Current\", \"width\": 500, \"$schema\": \"https://vega.github.io/schema/vega-lite/v4.8.1.json\"}, {\"mode\": \"vega-lite\"});\n",
       "</script>"
      ],
      "text/plain": [
       "alt.Chart(...)"
      ]
     },
     "execution_count": 130,
     "metadata": {},
     "output_type": "execute_result"
    }
   ],
   "source": [
    "base=alt.Chart(CrimeReport).mark_bar().encode(x=alt.X('sum(Total Incidents)',title=None),y=alt.Y('Weapon',sort='-x',title='Weapon Type'),color=alt.Color('Weapon:N',legend=None),tooltip=['sum(Total Incidents):Q'],column='Inside/Outside').properties(title='Weapon counts reported in Crime Report from 2011-Current')\n",
    "#text=base.mark_text(align='left',baseline='middle',dx=3,fontSize=15,).encode(text='count()')\n",
    "base.configure_title(fontSize=20,font='Courier',anchor='start',color='black')\n",
    "\n",
    "base.properties(height=300,width=500)"
   ]
  },
  {
   "cell_type": "markdown",
   "metadata": {},
   "source": [
    "## The Report of Criminal Charges given from 2011-2020\n",
    "- As you will see from the report, in almost a 9 year span the most common charge in Baltimore City is Larceny (Theift of personal property)\n",
    "- The shocking find for me is seeing that Homicide is the second to last common charge given in Baltimore city. \n",
    "- I have structured the code in a way that when you click on a specific bar the associated line to that bar will then only show. \n",
    "- I have also allowed that the line graph is interactive meaning you are able to scroll and see each day a crime and what that crime take place. "
   ]
  },
  {
   "cell_type": "code",
   "execution_count": 166,
   "metadata": {},
   "outputs": [
    {
     "data": {
      "text/html": [
       "\n",
       "<div id=\"altair-viz-a457ead751b14b3198d6d8f6fe3e0997\"></div>\n",
       "<script type=\"text/javascript\">\n",
       "  (function(spec, embedOpt){\n",
       "    let outputDiv = document.currentScript.previousElementSibling;\n",
       "    if (outputDiv.id !== \"altair-viz-a457ead751b14b3198d6d8f6fe3e0997\") {\n",
       "      outputDiv = document.getElementById(\"altair-viz-a457ead751b14b3198d6d8f6fe3e0997\");\n",
       "    }\n",
       "    const paths = {\n",
       "      \"vega\": \"https://cdn.jsdelivr.net/npm//vega@5?noext\",\n",
       "      \"vega-lib\": \"https://cdn.jsdelivr.net/npm//vega-lib?noext\",\n",
       "      \"vega-lite\": \"https://cdn.jsdelivr.net/npm//vega-lite@4.8.1?noext\",\n",
       "      \"vega-embed\": \"https://cdn.jsdelivr.net/npm//vega-embed@6?noext\",\n",
       "    };\n",
       "\n",
       "    function loadScript(lib) {\n",
       "      return new Promise(function(resolve, reject) {\n",
       "        var s = document.createElement('script');\n",
       "        s.src = paths[lib];\n",
       "        s.async = true;\n",
       "        s.onload = () => resolve(paths[lib]);\n",
       "        s.onerror = () => reject(`Error loading script: ${paths[lib]}`);\n",
       "        document.getElementsByTagName(\"head\")[0].appendChild(s);\n",
       "      });\n",
       "    }\n",
       "\n",
       "    function showError(err) {\n",
       "      outputDiv.innerHTML = `<div class=\"error\" style=\"color:red;\">${err}</div>`;\n",
       "      throw err;\n",
       "    }\n",
       "\n",
       "    function displayChart(vegaEmbed) {\n",
       "      vegaEmbed(outputDiv, spec, embedOpt)\n",
       "        .catch(err => showError(`Javascript Error: ${err.message}<br>This usually means there's a typo in your chart specification. See the javascript console for the full traceback.`));\n",
       "    }\n",
       "\n",
       "    if(typeof define === \"function\" && define.amd) {\n",
       "      requirejs.config({paths});\n",
       "      require([\"vega-embed\"], displayChart, err => showError(`Error loading script: ${err.message}`));\n",
       "    } else if (typeof vegaEmbed === \"function\") {\n",
       "      displayChart(vegaEmbed);\n",
       "    } else {\n",
       "      loadScript(\"vega\")\n",
       "        .then(() => loadScript(\"vega-lite\"))\n",
       "        .then(() => loadScript(\"vega-embed\"))\n",
       "        .catch(showError)\n",
       "        .then(() => displayChart(vegaEmbed));\n",
       "    }\n",
       "  })({\"config\": {\"view\": {\"continuousWidth\": 400, \"continuousHeight\": 300}}, \"vconcat\": [{\"mark\": \"bar\", \"encoding\": {\"color\": {\"condition\": {\"type\": \"nominal\", \"field\": \"Description\", \"legend\": null, \"selection\": \"selector084\"}, \"value\": \"lightgray\"}, \"tooltip\": [{\"type\": \"quantitative\", \"aggregate\": \"sum\", \"field\": \"Total Incidents\"}], \"x\": {\"type\": \"quantitative\", \"aggregate\": \"sum\", \"field\": \"Total Incidents\", \"sort\": \"y\", \"title\": null}, \"y\": {\"type\": \"nominal\", \"field\": \"Description\", \"sort\": \"-x\", \"title\": \"Criminal Acts\"}}, \"height\": 400, \"selection\": {\"selector084\": {\"type\": \"multi\", \"encodings\": [\"color\"]}}, \"title\": \"Types of Crime Reported from 2011-Current\", \"width\": 700}, {\"mark\": \"line\", \"encoding\": {\"color\": {\"type\": \"nominal\", \"field\": \"Description\", \"legend\": null, \"scale\": {\"scheme\": \"dark2\"}}, \"x\": {\"type\": \"temporal\", \"field\": \"CrimeDate\"}, \"y\": {\"type\": \"quantitative\", \"aggregate\": \"sum\", \"field\": \"Total Incidents\"}}, \"height\": 400, \"selection\": {\"selector085\": {\"type\": \"interval\", \"bind\": \"scales\", \"encodings\": [\"x\", \"y\"]}}, \"transform\": [{\"filter\": {\"selection\": \"selector084\"}}], \"width\": 700}], \"data\": {\"url\": \"altair-data-3fec604394eb875eccc0ead8feea34e7.json\", \"format\": {\"type\": \"json\"}}, \"$schema\": \"https://vega.github.io/schema/vega-lite/v4.8.1.json\"}, {\"mode\": \"vega-lite\"});\n",
       "</script>"
      ],
      "text/plain": [
       "alt.VConcatChart(...)"
      ]
     },
     "execution_count": 166,
     "metadata": {},
     "output_type": "execute_result"
    }
   ],
   "source": [
    "interval=alt.selection_multi(encodings=['color'])\n",
    "\n",
    "base=alt.Chart(CrimeReport).encode(\n",
    "    x=alt.X('sum(Total Incidents)',sort='y',title=None),\n",
    "    y=alt.Y('Description',sort='-x',title='Criminal Acts')\n",
    ").properties(title='Types of Crime Reported from 2011-Current')\n",
    "\n",
    "bars=base.mark_bar().encode(\n",
    "    color=alt.condition(interval,'Description:N',alt.value('lightgray'),legend=None),\n",
    "    tooltip=['sum(Total Incidents):Q']\n",
    ").properties(\n",
    "    selection=interval\n",
    ")\n",
    "\n",
    "#text=base.mark_text(align='center',baseline='middle',dx=30,dy=-10,fontSize=15).encode(text='count()')\n",
    "bars.configure_title(fontSize=20,font='Courier',anchor='start',color='black')\n",
    "\n",
    "Time=alt.Chart(CrimeReport).mark_line().encode(\n",
    "    x=alt.X('CrimeDate:T'),\n",
    "    y=alt.Y('sum(Total Incidents)'),\n",
    "    color=alt.Color('Description',legend=None,scale=alt.Scale(scheme='dark2'))\n",
    ").interactive().transform_filter(\n",
    "    interval\n",
    ")\n",
    "bars.properties(height=400,width=700) & Time.properties(height=400,width=700)"
   ]
  },
  {
   "cell_type": "markdown",
   "metadata": {},
   "source": [
    "## Crime activity throughout a nine year span within Baltimore City\n",
    "- You can see from 2011-2013 that criminal activity become very consistent and stagnant for that three year mark.\n",
    "- Now when you continue onward from the ending of 2013, you see that there has been a spike in 2014 then the highest recorded year in 2015 and then a slow decent in 2016. \n",
    "- Then is drastically fall back down and continued to decrease slowly. "
   ]
  },
  {
   "cell_type": "markdown",
   "metadata": {},
   "source": [
    "## Criminal Report from a 12 month calendar view from 2011-2020\n",
    "- You can see that from start of the year criminal activity is some what high in January and the towards the middle of the year when it is during the summer months like May-Aug you see the surge and consistency of crime occuring. "
   ]
  },
  {
   "cell_type": "code",
   "execution_count": 141,
   "metadata": {
    "scrolled": true
   },
   "outputs": [
    {
     "data": {
      "text/html": [
       "\n",
       "<div id=\"altair-viz-55e5d6b1eb594fd6b545b2c4bd796cda\"></div>\n",
       "<script type=\"text/javascript\">\n",
       "  (function(spec, embedOpt){\n",
       "    let outputDiv = document.currentScript.previousElementSibling;\n",
       "    if (outputDiv.id !== \"altair-viz-55e5d6b1eb594fd6b545b2c4bd796cda\") {\n",
       "      outputDiv = document.getElementById(\"altair-viz-55e5d6b1eb594fd6b545b2c4bd796cda\");\n",
       "    }\n",
       "    const paths = {\n",
       "      \"vega\": \"https://cdn.jsdelivr.net/npm//vega@5?noext\",\n",
       "      \"vega-lib\": \"https://cdn.jsdelivr.net/npm//vega-lib?noext\",\n",
       "      \"vega-lite\": \"https://cdn.jsdelivr.net/npm//vega-lite@4.8.1?noext\",\n",
       "      \"vega-embed\": \"https://cdn.jsdelivr.net/npm//vega-embed@6?noext\",\n",
       "    };\n",
       "\n",
       "    function loadScript(lib) {\n",
       "      return new Promise(function(resolve, reject) {\n",
       "        var s = document.createElement('script');\n",
       "        s.src = paths[lib];\n",
       "        s.async = true;\n",
       "        s.onload = () => resolve(paths[lib]);\n",
       "        s.onerror = () => reject(`Error loading script: ${paths[lib]}`);\n",
       "        document.getElementsByTagName(\"head\")[0].appendChild(s);\n",
       "      });\n",
       "    }\n",
       "\n",
       "    function showError(err) {\n",
       "      outputDiv.innerHTML = `<div class=\"error\" style=\"color:red;\">${err}</div>`;\n",
       "      throw err;\n",
       "    }\n",
       "\n",
       "    function displayChart(vegaEmbed) {\n",
       "      vegaEmbed(outputDiv, spec, embedOpt)\n",
       "        .catch(err => showError(`Javascript Error: ${err.message}<br>This usually means there's a typo in your chart specification. See the javascript console for the full traceback.`));\n",
       "    }\n",
       "\n",
       "    if(typeof define === \"function\" && define.amd) {\n",
       "      requirejs.config({paths});\n",
       "      require([\"vega-embed\"], displayChart, err => showError(`Error loading script: ${err.message}`));\n",
       "    } else if (typeof vegaEmbed === \"function\") {\n",
       "      displayChart(vegaEmbed);\n",
       "    } else {\n",
       "      loadScript(\"vega\")\n",
       "        .then(() => loadScript(\"vega-lite\"))\n",
       "        .then(() => loadScript(\"vega-embed\"))\n",
       "        .catch(showError)\n",
       "        .then(() => displayChart(vegaEmbed));\n",
       "    }\n",
       "  })({\"config\": {\"view\": {\"continuousWidth\": 400, \"continuousHeight\": 300}}, \"vconcat\": [{\"hconcat\": [{\"layer\": [{\"mark\": \"bar\", \"encoding\": {\"color\": {\"condition\": {\"type\": \"nominal\", \"field\": \"Year\", \"legend\": null, \"selection\": \"selector050\"}, \"value\": \"lightgray\"}, \"x\": {\"type\": \"temporal\", \"field\": \"CrimeDate\", \"timeUnit\": \"year\"}, \"y\": {\"type\": \"quantitative\", \"aggregate\": \"sum\", \"field\": \"Total Incidents\", \"sort\": \"y\", \"title\": null}}, \"selection\": {\"selector050\": {\"type\": \"multi\", \"encodings\": [\"color\"]}}}, {\"mark\": {\"type\": \"text\", \"align\": \"center\", \"baseline\": \"middle\", \"dx\": 30, \"dy\": -10, \"fontSize\": 15}, \"encoding\": {\"text\": {\"type\": \"quantitative\", \"aggregate\": \"count\"}, \"x\": {\"type\": \"temporal\", \"field\": \"CrimeDate\", \"timeUnit\": \"year\"}, \"y\": {\"type\": \"quantitative\", \"aggregate\": \"sum\", \"field\": \"Total Incidents\", \"sort\": \"y\", \"title\": null}}}], \"height\": 400, \"title\": \"Crime Reported Yearly from 2011-Current\", \"width\": 700}, {\"layer\": [{\"mark\": \"bar\", \"encoding\": {\"color\": {\"type\": \"nominal\", \"field\": \"Month\", \"legend\": null}, \"x\": {\"type\": \"temporal\", \"field\": \"CrimeDate\", \"timeUnit\": \"month\"}, \"y\": {\"type\": \"quantitative\", \"aggregate\": \"sum\", \"field\": \"Total Incidents\", \"title\": null}}}, {\"mark\": {\"type\": \"text\", \"align\": \"center\", \"baseline\": \"middle\", \"dx\": 30, \"dy\": -10, \"fontSize\": 15}, \"encoding\": {\"text\": {\"type\": \"quantitative\", \"aggregate\": \"sum\", \"field\": \"Total Incidents\"}, \"x\": {\"type\": \"temporal\", \"field\": \"CrimeDate\", \"timeUnit\": \"month\"}, \"y\": {\"type\": \"quantitative\", \"aggregate\": \"sum\", \"field\": \"Total Incidents\", \"title\": null}}, \"height\": 400, \"title\": \"Crime Reported Monthly from 2011-Current\", \"width\": 700}]}]}, {\"mark\": \"line\", \"encoding\": {\"color\": {\"type\": \"quantitative\", \"field\": \"Year\", \"legend\": null, \"scale\": {\"scheme\": \"dark2\"}}, \"strokeDash\": {\"type\": \"quantitative\", \"field\": \"Year\"}, \"x\": {\"type\": \"temporal\", \"field\": \"CrimeDate\"}, \"y\": {\"type\": \"quantitative\", \"aggregate\": \"sum\", \"field\": \"Total Incidents\"}}, \"height\": 400, \"selection\": {\"selector051\": {\"type\": \"interval\", \"bind\": \"scales\", \"encodings\": [\"x\", \"y\"]}}, \"transform\": [{\"filter\": {\"selection\": \"selector050\"}}], \"width\": 700}], \"data\": {\"url\": \"altair-data-3fec604394eb875eccc0ead8feea34e7.json\", \"format\": {\"type\": \"json\"}}, \"$schema\": \"https://vega.github.io/schema/vega-lite/v4.8.1.json\"}, {\"mode\": \"vega-lite\"});\n",
       "</script>"
      ],
      "text/plain": [
       "alt.VConcatChart(...)"
      ]
     },
     "execution_count": 141,
     "metadata": {},
     "output_type": "execute_result"
    }
   ],
   "source": [
    "interval=alt.selection_multi(encodings=['color'])\n",
    "\n",
    "base=alt.Chart(CrimeReport).encode(\n",
    "    y=alt.Y('sum(Total Incidents)',sort='y',title=None),\n",
    "    x=alt.X('CrimeDate:T',timeUnit='year')\n",
    ")\n",
    "bars=base.mark_bar().encode(\n",
    "    color=alt.condition(interval,'Year:N',alt.value('lightgray'),legend=None)\n",
    ").properties(\n",
    "    selection=interval\n",
    ")\n",
    "\n",
    "text=base.mark_text(align='center',baseline='middle',dx=30,dy=-10,fontSize=15).encode(text='count()')\n",
    "bars.configure_title(fontSize=20,font='Courier',anchor='start',color='black')\n",
    "\n",
    "Time=alt.Chart(CrimeReport).mark_line().encode(\n",
    "    x=alt.X('CrimeDate:T'),\n",
    "    y=alt.Y('sum(Total Incidents)')\n",
    "    ,color=alt.Color('Year',legend=None,scale=alt.Scale(scheme='dark2')),strokeDash='Year'\n",
    ").interactive().transform_filter(\n",
    "    interval\n",
    ")\n",
    "\n",
    "base1=alt.Chart(CrimeReport).encode(\n",
    "    y=alt.Y('sum(Total Incidents):Q',title=None),\n",
    "    x=alt.X('CrimeDate:T',timeUnit='month')\n",
    ")\n",
    "bars1=base1.mark_bar().encode(\n",
    "    color=alt.Color('Month:N',legend=None)\n",
    ")\n",
    "text1=base1.mark_text(align='center',dx=30,dy=-10,baseline='middle',fontSize=15).encode(text='sum(Total Incidents):Q')\n",
    "bars1.configure_title(fontSize=20,font='Courier',anchor='start',color='black')\n",
    "\n",
    "Month=bars1+text1.properties(title='Crime Reported Monthly from 2011-Current',height=400,width=700)\n",
    "Year=((bars+text).properties(title='Crime Reported Yearly from 2011-Current',height=400,width=700))\n",
    "\n",
    "(Year | Month) & Time.properties(height=400,width=700)"
   ]
  },
  {
   "cell_type": "markdown",
   "metadata": {},
   "source": [
    "# Crime Looked at per-hour by day\n",
    "\n",
    "- Looking at the chart below I decided to create a heatmap for how much crime is committed over the course of the day in hours terms. \n",
    "- You can see below that the number of criminal acts are relatively low during the earlier morning from 2am-7am roughly. \n",
    "- As for the hot spots you see this from 12pm-11pm roughly, in according to this you will notice that there is a color change or if you will a graduate color change from 7am-12pm "
   ]
  },
  {
   "cell_type": "code",
   "execution_count": 167,
   "metadata": {
    "scrolled": true
   },
   "outputs": [
    {
     "data": {
      "text/html": [
       "\n",
       "<div id=\"altair-viz-ccdd8b163fae4ab4a0820780d7001bf3\"></div>\n",
       "<script type=\"text/javascript\">\n",
       "  (function(spec, embedOpt){\n",
       "    let outputDiv = document.currentScript.previousElementSibling;\n",
       "    if (outputDiv.id !== \"altair-viz-ccdd8b163fae4ab4a0820780d7001bf3\") {\n",
       "      outputDiv = document.getElementById(\"altair-viz-ccdd8b163fae4ab4a0820780d7001bf3\");\n",
       "    }\n",
       "    const paths = {\n",
       "      \"vega\": \"https://cdn.jsdelivr.net/npm//vega@5?noext\",\n",
       "      \"vega-lib\": \"https://cdn.jsdelivr.net/npm//vega-lib?noext\",\n",
       "      \"vega-lite\": \"https://cdn.jsdelivr.net/npm//vega-lite@4.8.1?noext\",\n",
       "      \"vega-embed\": \"https://cdn.jsdelivr.net/npm//vega-embed@6?noext\",\n",
       "    };\n",
       "\n",
       "    function loadScript(lib) {\n",
       "      return new Promise(function(resolve, reject) {\n",
       "        var s = document.createElement('script');\n",
       "        s.src = paths[lib];\n",
       "        s.async = true;\n",
       "        s.onload = () => resolve(paths[lib]);\n",
       "        s.onerror = () => reject(`Error loading script: ${paths[lib]}`);\n",
       "        document.getElementsByTagName(\"head\")[0].appendChild(s);\n",
       "      });\n",
       "    }\n",
       "\n",
       "    function showError(err) {\n",
       "      outputDiv.innerHTML = `<div class=\"error\" style=\"color:red;\">${err}</div>`;\n",
       "      throw err;\n",
       "    }\n",
       "\n",
       "    function displayChart(vegaEmbed) {\n",
       "      vegaEmbed(outputDiv, spec, embedOpt)\n",
       "        .catch(err => showError(`Javascript Error: ${err.message}<br>This usually means there's a typo in your chart specification. See the javascript console for the full traceback.`));\n",
       "    }\n",
       "\n",
       "    if(typeof define === \"function\" && define.amd) {\n",
       "      requirejs.config({paths});\n",
       "      require([\"vega-embed\"], displayChart, err => showError(`Error loading script: ${err.message}`));\n",
       "    } else if (typeof vegaEmbed === \"function\") {\n",
       "      displayChart(vegaEmbed);\n",
       "    } else {\n",
       "      loadScript(\"vega\")\n",
       "        .then(() => loadScript(\"vega-lite\"))\n",
       "        .then(() => loadScript(\"vega-embed\"))\n",
       "        .catch(showError)\n",
       "        .then(() => displayChart(vegaEmbed));\n",
       "    }\n",
       "  })({\"config\": {\"view\": {\"continuousWidth\": 400, \"continuousHeight\": 300}}, \"data\": {\"url\": \"altair-data-3fec604394eb875eccc0ead8feea34e7.json\", \"format\": {\"type\": \"json\"}}, \"mark\": \"rect\", \"encoding\": {\"color\": {\"type\": \"quantitative\", \"aggregate\": \"count\"}, \"column\": {\"type\": \"nominal\", \"field\": \"Month\"}, \"x\": {\"type\": \"nominal\", \"field\": \"Hour\"}, \"y\": {\"type\": \"ordinal\", \"field\": \"CrimeDate\", \"timeUnit\": \"date\"}}, \"$schema\": \"https://vega.github.io/schema/vega-lite/v4.8.1.json\"}, {\"mode\": \"vega-lite\"});\n",
       "</script>"
      ],
      "text/plain": [
       "alt.Chart(...)"
      ]
     },
     "execution_count": 167,
     "metadata": {},
     "output_type": "execute_result"
    }
   ],
   "source": [
    "alt.Chart(CrimeReport).mark_rect().encode(\n",
    "    x=alt.X('Hour'),\n",
    "    y=alt.Y('CrimeDate:O',timeUnit='date'),\n",
    "    color='count()',\n",
    "    column='Month'\n",
    ")"
   ]
  },
  {
   "cell_type": "markdown",
   "metadata": {},
   "source": [
    "## Here is the breakdown of the three highest years in Baltimore City\n",
    "\n",
    "- Below you will see the three highest years of crime in Baltimore City brokendown by the nine districts \n",
    "- You will also notice that the Northeastern & Southeastern district is still the highest reporting district in criminal activity\n",
    "- There could be a reason for this however, this will be looked into more from phase two of this report. "
   ]
  },
  {
   "cell_type": "code",
   "execution_count": 144,
   "metadata": {
    "scrolled": true
   },
   "outputs": [
    {
     "data": {
      "text/html": [
       "\n",
       "<div id=\"altair-viz-fb523c6fe26d4292aecdf439471f408a\"></div>\n",
       "<script type=\"text/javascript\">\n",
       "  (function(spec, embedOpt){\n",
       "    let outputDiv = document.currentScript.previousElementSibling;\n",
       "    if (outputDiv.id !== \"altair-viz-fb523c6fe26d4292aecdf439471f408a\") {\n",
       "      outputDiv = document.getElementById(\"altair-viz-fb523c6fe26d4292aecdf439471f408a\");\n",
       "    }\n",
       "    const paths = {\n",
       "      \"vega\": \"https://cdn.jsdelivr.net/npm//vega@5?noext\",\n",
       "      \"vega-lib\": \"https://cdn.jsdelivr.net/npm//vega-lib?noext\",\n",
       "      \"vega-lite\": \"https://cdn.jsdelivr.net/npm//vega-lite@4.8.1?noext\",\n",
       "      \"vega-embed\": \"https://cdn.jsdelivr.net/npm//vega-embed@6?noext\",\n",
       "    };\n",
       "\n",
       "    function loadScript(lib) {\n",
       "      return new Promise(function(resolve, reject) {\n",
       "        var s = document.createElement('script');\n",
       "        s.src = paths[lib];\n",
       "        s.async = true;\n",
       "        s.onload = () => resolve(paths[lib]);\n",
       "        s.onerror = () => reject(`Error loading script: ${paths[lib]}`);\n",
       "        document.getElementsByTagName(\"head\")[0].appendChild(s);\n",
       "      });\n",
       "    }\n",
       "\n",
       "    function showError(err) {\n",
       "      outputDiv.innerHTML = `<div class=\"error\" style=\"color:red;\">${err}</div>`;\n",
       "      throw err;\n",
       "    }\n",
       "\n",
       "    function displayChart(vegaEmbed) {\n",
       "      vegaEmbed(outputDiv, spec, embedOpt)\n",
       "        .catch(err => showError(`Javascript Error: ${err.message}<br>This usually means there's a typo in your chart specification. See the javascript console for the full traceback.`));\n",
       "    }\n",
       "\n",
       "    if(typeof define === \"function\" && define.amd) {\n",
       "      requirejs.config({paths});\n",
       "      require([\"vega-embed\"], displayChart, err => showError(`Error loading script: ${err.message}`));\n",
       "    } else if (typeof vegaEmbed === \"function\") {\n",
       "      displayChart(vegaEmbed);\n",
       "    } else {\n",
       "      loadScript(\"vega\")\n",
       "        .then(() => loadScript(\"vega-lite\"))\n",
       "        .then(() => loadScript(\"vega-embed\"))\n",
       "        .catch(showError)\n",
       "        .then(() => displayChart(vegaEmbed));\n",
       "    }\n",
       "  })({\"config\": {\"view\": {\"continuousWidth\": 400, \"continuousHeight\": 300}}, \"data\": {\"url\": \"altair-data-3fec604394eb875eccc0ead8feea34e7.json\", \"format\": {\"type\": \"json\"}}, \"mark\": \"bar\", \"encoding\": {\"color\": {\"type\": \"nominal\", \"field\": \"District\", \"legend\": null}, \"column\": {\"type\": \"quantitative\", \"field\": \"Year\"}, \"tooltip\": [{\"type\": \"quantitative\", \"aggregate\": \"sum\", \"field\": \"Total Incidents\"}, {\"type\": \"nominal\", \"field\": \"District\"}], \"x\": {\"type\": \"quantitative\", \"aggregate\": \"sum\", \"field\": \"Total Incidents\", \"title\": null}, \"y\": {\"type\": \"nominal\", \"field\": \"District\", \"sort\": \"-x\", \"title\": \"Baltimore City Districts\"}}, \"height\": 400, \"transform\": [{\"filter\": {\"field\": \"Year\", \"oneOf\": [2014, 2015, 2016]}}], \"width\": 800, \"$schema\": \"https://vega.github.io/schema/vega-lite/v4.8.1.json\"}, {\"mode\": \"vega-lite\"});\n",
       "</script>"
      ],
      "text/plain": [
       "alt.Chart(...)"
      ]
     },
     "execution_count": 144,
     "metadata": {},
     "output_type": "execute_result"
    }
   ],
   "source": [
    "base=alt.Chart(CrimeReport).mark_bar().encode(x=alt.X('sum(Total Incidents)',title=None),y=alt.Y('District',sort='-x',title='Baltimore City Districts'),color=alt.Color('District:N',legend=None),tooltip=['sum(Total Incidents):Q','District'],column='Year').transform_filter(alt.FieldOneOfPredicate(field='Year', oneOf=[2014,2015,2016]))\n",
    "bars.configure_title(fontSize=20,font='Courier',anchor='start',color='black')\n",
    "\n",
    "base.properties(height=400,width=800)"
   ]
  },
  {
   "cell_type": "code",
   "execution_count": 145,
   "metadata": {
    "scrolled": true
   },
   "outputs": [
    {
     "data": {
      "text/html": [
       "\n",
       "<div id=\"altair-viz-1273cce642984d9fb9a5d41ab8ffe664\"></div>\n",
       "<script type=\"text/javascript\">\n",
       "  (function(spec, embedOpt){\n",
       "    let outputDiv = document.currentScript.previousElementSibling;\n",
       "    if (outputDiv.id !== \"altair-viz-1273cce642984d9fb9a5d41ab8ffe664\") {\n",
       "      outputDiv = document.getElementById(\"altair-viz-1273cce642984d9fb9a5d41ab8ffe664\");\n",
       "    }\n",
       "    const paths = {\n",
       "      \"vega\": \"https://cdn.jsdelivr.net/npm//vega@5?noext\",\n",
       "      \"vega-lib\": \"https://cdn.jsdelivr.net/npm//vega-lib?noext\",\n",
       "      \"vega-lite\": \"https://cdn.jsdelivr.net/npm//vega-lite@4.8.1?noext\",\n",
       "      \"vega-embed\": \"https://cdn.jsdelivr.net/npm//vega-embed@6?noext\",\n",
       "    };\n",
       "\n",
       "    function loadScript(lib) {\n",
       "      return new Promise(function(resolve, reject) {\n",
       "        var s = document.createElement('script');\n",
       "        s.src = paths[lib];\n",
       "        s.async = true;\n",
       "        s.onload = () => resolve(paths[lib]);\n",
       "        s.onerror = () => reject(`Error loading script: ${paths[lib]}`);\n",
       "        document.getElementsByTagName(\"head\")[0].appendChild(s);\n",
       "      });\n",
       "    }\n",
       "\n",
       "    function showError(err) {\n",
       "      outputDiv.innerHTML = `<div class=\"error\" style=\"color:red;\">${err}</div>`;\n",
       "      throw err;\n",
       "    }\n",
       "\n",
       "    function displayChart(vegaEmbed) {\n",
       "      vegaEmbed(outputDiv, spec, embedOpt)\n",
       "        .catch(err => showError(`Javascript Error: ${err.message}<br>This usually means there's a typo in your chart specification. See the javascript console for the full traceback.`));\n",
       "    }\n",
       "\n",
       "    if(typeof define === \"function\" && define.amd) {\n",
       "      requirejs.config({paths});\n",
       "      require([\"vega-embed\"], displayChart, err => showError(`Error loading script: ${err.message}`));\n",
       "    } else if (typeof vegaEmbed === \"function\") {\n",
       "      displayChart(vegaEmbed);\n",
       "    } else {\n",
       "      loadScript(\"vega\")\n",
       "        .then(() => loadScript(\"vega-lite\"))\n",
       "        .then(() => loadScript(\"vega-embed\"))\n",
       "        .catch(showError)\n",
       "        .then(() => displayChart(vegaEmbed));\n",
       "    }\n",
       "  })({\"config\": {\"view\": {\"continuousWidth\": 400, \"continuousHeight\": 300}}, \"data\": {\"url\": \"altair-data-3fec604394eb875eccc0ead8feea34e7.json\", \"format\": {\"type\": \"json\"}}, \"mark\": \"bar\", \"encoding\": {\"color\": {\"type\": \"nominal\", \"field\": \"Description\", \"legend\": null}, \"column\": {\"type\": \"quantitative\", \"field\": \"Year\"}, \"tooltip\": [{\"type\": \"quantitative\", \"aggregate\": \"sum\", \"field\": \"Total Incidents\"}, {\"type\": \"nominal\", \"field\": \"Description\"}], \"x\": {\"type\": \"quantitative\", \"aggregate\": \"sum\", \"field\": \"Total Incidents\", \"title\": null}, \"y\": {\"type\": \"nominal\", \"field\": \"Description\", \"sort\": \"-x\", \"title\": \"Types of Crime\"}}, \"height\": 400, \"transform\": [{\"filter\": {\"field\": \"Year\", \"oneOf\": [2014, 2015, 2016]}}], \"width\": 800, \"$schema\": \"https://vega.github.io/schema/vega-lite/v4.8.1.json\"}, {\"mode\": \"vega-lite\"});\n",
       "</script>"
      ],
      "text/plain": [
       "alt.Chart(...)"
      ]
     },
     "execution_count": 145,
     "metadata": {},
     "output_type": "execute_result"
    }
   ],
   "source": [
    "base=alt.Chart(CrimeReport).mark_bar().encode(x=alt.X('sum(Total Incidents)',title=None),y=alt.Y('Description',sort='-x',title='Types of Crime'),color=alt.Color('Description:N',legend=None),tooltip=['sum(Total Incidents):Q','Description'],column='Year').transform_filter(alt.FieldOneOfPredicate(field='Year', oneOf=[2014,2015,2016]))\n",
    "bars.configure_title(fontSize=20,font='Courier',anchor='start',color='black')\n",
    "\n",
    "base.properties(height=400,width=800)"
   ]
  }
 ],
 "metadata": {
  "kernelspec": {
   "display_name": "Python 3",
   "language": "python",
   "name": "python3"
  },
  "language_info": {
   "codemirror_mode": {
    "name": "ipython",
    "version": 3
   },
   "file_extension": ".py",
   "mimetype": "text/x-python",
   "name": "python",
   "nbconvert_exporter": "python",
   "pygments_lexer": "ipython3",
   "version": "3.7.4"
  }
 },
 "nbformat": 4,
 "nbformat_minor": 4
}
