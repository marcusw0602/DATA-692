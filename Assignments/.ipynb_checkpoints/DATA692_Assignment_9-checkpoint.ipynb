{
 "cells": [
  {
   "cell_type": "code",
   "execution_count": 1,
   "metadata": {},
   "outputs": [],
   "source": [
    "import math\n",
    "import scipy.stats as stats\n",
    "import numpy as np"
   ]
  },
  {
   "cell_type": "code",
   "execution_count": 2,
   "metadata": {},
   "outputs": [],
   "source": [
    "sample_data = [6414,1550,2109,9350,21828,4300,5944,5722,2825,2044,5481,5200,5853,2750,10012,6357,27000,9414,76813200,17500,9200,7380,18314,6557,13713,17768,7493,2771,2861,\n",
    "1263,7285,28165,5080,11622]"
   ]
  },
  {
   "cell_type": "code",
   "execution_count": 4,
   "metadata": {},
   "outputs": [
    {
     "name": "stdout",
     "output_type": "stream",
     "text": [
      "The sample size of the data is: 34\n"
     ]
    }
   ],
   "source": [
    "sample_size = len(sample_data)\n",
    "print('The sample size of the data is:',sample_size)"
   ]
  },
  {
   "cell_type": "code",
   "execution_count": 8,
   "metadata": {},
   "outputs": [
    {
     "name": "stdout",
     "output_type": "stream",
     "text": [
      "The sample mean of the data is: 2267774.26\n"
     ]
    }
   ],
   "source": [
    "sample_mean = round(np.mean(sample_data),2)\n",
    "print('The sample mean of the data is:',sample_mean)"
   ]
  },
  {
   "cell_type": "code",
   "execution_count": 9,
   "metadata": {},
   "outputs": [
    {
     "name": "stdout",
     "output_type": "stream",
     "text": [
      "Our std for this data is: 13171844.01\n"
     ]
    }
   ],
   "source": [
    "sample_std = np.std(sample_data, ddof=1)\n",
    "sample_std = round(sample_std,2)\n",
    "print(\"Our std for this data is:\",sample_std)"
   ]
  },
  {
   "cell_type": "code",
   "execution_count": 10,
   "metadata": {},
   "outputs": [
    {
     "name": "stdout",
     "output_type": "stream",
     "text": [
      "The std_error for the data is: 2258952.61\n"
     ]
    }
   ],
   "source": [
    "std_err = sample_std / math.sqrt(sample_size)\n",
    "std_err = round(std_err,2)\n",
    "print(\"The std_error for the data is:\", std_err)"
   ]
  },
  {
   "cell_type": "code",
   "execution_count": 11,
   "metadata": {},
   "outputs": [
    {
     "name": "stdout",
     "output_type": "stream",
     "text": [
      "t critical value =  2.03\n"
     ]
    }
   ],
   "source": [
    "t_value = stats.t.ppf(0.975,33)\n",
    "print(\"t critical value = \", round(t_value,2))"
   ]
  },
  {
   "cell_type": "code",
   "execution_count": 12,
   "metadata": {},
   "outputs": [
    {
     "name": "stdout",
     "output_type": "stream",
     "text": [
      "The margin of error for this data is: 4595873.64\n"
     ]
    }
   ],
   "source": [
    "margin_of_error = round(t_value * std_err,2) \n",
    "print(\"The margin of error for this data is:\", margin_of_error)"
   ]
  },
  {
   "cell_type": "code",
   "execution_count": 14,
   "metadata": {},
   "outputs": [
    {
     "name": "stdout",
     "output_type": "stream",
     "text": [
      "The lower limit for this data is: -2328099.38\n",
      "The upper limit for this data is: 6863647.9\n"
     ]
    }
   ],
   "source": [
    "lower = sample_mean - margin_of_error\n",
    "upper = sample_mean + margin_of_error\n",
    "\n",
    "print(\"The lower limit for this data is:\", lower)\n",
    "print(\"The upper limit for this data is:\", round(upper,2))"
   ]
  },
  {
   "cell_type": "markdown",
   "metadata": {},
   "source": [
    "# You will see above that the 95% Confidence level for this list of data is -2328099.38 at the lower end and  6863647.9 as the higher end."
   ]
  },
  {
   "cell_type": "code",
   "execution_count": null,
   "metadata": {},
   "outputs": [],
   "source": []
  }
 ],
 "metadata": {
  "kernelspec": {
   "display_name": "Python 3",
   "language": "python",
   "name": "python3"
  },
  "language_info": {
   "codemirror_mode": {
    "name": "ipython",
    "version": 3
   },
   "file_extension": ".py",
   "mimetype": "text/x-python",
   "name": "python",
   "nbconvert_exporter": "python",
   "pygments_lexer": "ipython3",
   "version": "3.7.4"
  }
 },
 "nbformat": 4,
 "nbformat_minor": 2
}
