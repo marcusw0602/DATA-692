{
 "cells": [
  {
   "cell_type": "markdown",
   "metadata": {},
   "source": [
    "# 1. Character Input\n",
    "### Create a program that asks the user to enter their name and their age. Print out a message addressed to them that tells them the year that they will turn 100 years old."
   ]
  },
  {
   "cell_type": "code",
   "execution_count": null,
   "metadata": {},
   "outputs": [],
   "source": [
    "# Line(8) Imported datetime package so that I can use it to consistently update the years whenever the program is running\n",
    "# Line(10) Created counter variable so that I can use it to stop my while loop\n",
    "# Line(11) Saved the year to date function in the variable year\n",
    "# Line(13) While created to run ten times\n",
    "# Line(14-21) Aksed for input along with implementing the try and catch method\n",
    "# Line(22) Created the calculation and save it for the year the user will actually turn 100\n",
    "# Line(23-27) Created an if statement that will print a message stating whether or not you are 100\n",
    "from datetime import date\n",
    "\n",
    "counter = 0\n",
    "year = date.today().year\n",
    "\n",
    "while counter <= 10:\n",
    "    Name = input(\"Please enter in your name: \")\n",
    "    while True:\n",
    "        try:\n",
    "            Age = int(input(\"Please enter in your age: \"))\n",
    "            break\n",
    "        except:\n",
    "            print(\"Age input was invalid\")\n",
    "            continue\n",
    "    onehundredth_year = (100 - Age) + year\n",
    "    if Age < 100:\n",
    "        print(\"Your name is \", Name ,\" and your \", Age ,\" years old. You will be 100 in\", onehundredth_year)\n",
    "    else: \n",
    "        print(\"You are already 100 an above years old\")\n",
    "    print('\\n')\n",
    "    counter = counter + 1"
   ]
  },
  {
   "cell_type": "markdown",
   "metadata": {},
   "source": [
    "# 2. Odd Or Even\n",
    "### Ask the user for a number. Depending on whether the number is even or odd, print out an appropriate message to the user."
   ]
  },
  {
   "cell_type": "code",
   "execution_count": null,
   "metadata": {},
   "outputs": [],
   "source": [
    "# Line(3) Asks the user to input a number whether odd or even\n",
    "# Line(4-9) With the number that it is entered it will check that number to see if it is divisable by two and four. If the number is not divisable by two or four then it will state that it is not\n",
    "Number = int(input(\"Please enter in a number to see if it is even or odd: \"))\n",
    "if Number%2==0:\n",
    "    print(\"Even number\")\n",
    "    if Number%4==0:\n",
    "        print(\"This number is also a multple of 4\")\n",
    "else:\n",
    "    print(\"Odd number\")"
   ]
  },
  {
   "cell_type": "markdown",
   "metadata": {},
   "source": [
    "# 3. List Less Than Ten\n",
    "### Take a list, say for example this one:   a = [1, 1, 2, 3, 5, 8, 13, 21, 34, 55, 89] and write a program that prints out all the elements of the list that are less than 5."
   ]
  },
  {
   "cell_type": "code",
   "execution_count": null,
   "metadata": {},
   "outputs": [],
   "source": [
    "# Line(6) Stock list containing values\n",
    "# Line(7) Created a list compression which will save any item in the list that is less than 5 into a new list\n",
    "# Line(11-23) Created a while loop that is set to true until the condition reaches the break statement\n",
    "# Line(14-15) Implemented the if statment so that if the input equals -1 it will cancel out the loop\n",
    "# Line(16-18) For loop created so that if the item that is less than the number you entered into another loop\n",
    "My_list = [1, 1, 2, 3, 5, 8, 13, 21, 34, 55, 89]\n",
    "New_list = [item for item in My_list if item < 5]\n",
    "print(New_list)\n",
    "\n",
    "final_list = []\n",
    "while True:\n",
    "    try:\n",
    "        Number = int(input(\"Please enter in a number if you would like to quit enter '-1':  \"))\n",
    "        if Number == -1:\n",
    "            break\n",
    "        for item in My_list:\n",
    "            if item < Number:\n",
    "                final_list.append(item)\n",
    "        print(final_list)\n",
    "        final_list.clear()\n",
    "    except:\n",
    "        print(\"The value you have entered is invalid\")\n",
    "        continue"
   ]
  },
  {
   "cell_type": "markdown",
   "metadata": {},
   "source": [
    "# 4. Divisors"
   ]
  },
  {
   "cell_type": "code",
   "execution_count": 5,
   "metadata": {},
   "outputs": [
    {
     "name": "stdin",
     "output_type": "stream",
     "text": [
      "please enter in a number to find it divisors or enter in '-1' to end loop:  80\n"
     ]
    },
    {
     "name": "stdout",
     "output_type": "stream",
     "text": [
      "[1, 2, 4, 5, 8, 10, 16, 20, 40, 80]\n"
     ]
    },
    {
     "name": "stdin",
     "output_type": "stream",
     "text": [
      "please enter in a number to find it divisors or enter in '-1' to end loop:  -1\n"
     ]
    },
    {
     "name": "stdout",
     "output_type": "stream",
     "text": [
      "\n",
      "\n",
      "You have ended and exited the loop\n"
     ]
    }
   ],
   "source": [
    "# Line(8-22) Created while loop and set it to infinite so that the user can run the program as long as they want\n",
    "# Line(9-20) Implemented the try and except method to cancel the loop and capture the error if the wrong value is entered\n",
    "# Line(11 and 12) Created the if statement to break the loop if the number -1 is entered\n",
    "# Line(13) Created the variable for a list to contain all the Divisors are in the list\n",
    "# Line(14) Created the variable for a range to be implemented in the for loop.  \n",
    "# Line(15-18) Implemented the for loop so that I can add every number that is diviable by the number that is entered\n",
    "# Line(19) I implemented the clear function so that I can have a fresh list after every successful list print out\n",
    "while True:\n",
    "    try:\n",
    "        Number = int(input(\"please enter in a number to find it divisors or enter in '-1' to end loop: \"))\n",
    "        if Number == -1:\n",
    "            break\n",
    "        DivList = []\n",
    "        DivRange = list(range(1,Number+1))\n",
    "        for number in DivRange:\n",
    "            if Number%number == 0:\n",
    "                DivList.append(number)\n",
    "        print(DivList)\n",
    "        DivList.clear()\n",
    "    except:\n",
    "        print(\"You have entered in an invalid input please try again\")\n",
    "        continue\n",
    "print('\\n')\n",
    "print(\"You have ended and exited the loop\")"
   ]
  },
  {
   "cell_type": "markdown",
   "metadata": {},
   "source": [
    "# 5. List Overlap"
   ]
  },
  {
   "cell_type": "code",
   "execution_count": null,
   "metadata": {},
   "outputs": [],
   "source": [
    "# Line(3 and 5-6) I imported the random package to use later on the first and second list to add random generated numbers\n",
    "# Line(12) Created another list that is using the comprehension style to append any item that is comman in list 1 and list 2\n",
    "import random\n",
    "\n",
    "FirstList = [(random.randrange(1,10)) for i in range(10)]\n",
    "SecondList = [(random.randrange(1,10)) for i in range(10)]\n",
    "print(\"First list\",end=\" \")\n",
    "print(FirstList)\n",
    "print(\"Second list\",end=\" \")\n",
    "print(SecondList)\n",
    "\n",
    "New_List = [number for number in FirstList if number in SecondList]\n",
    "\n",
    "print(\"This list contains all items that list 1 and list 2 have in common: \",New_List)"
   ]
  },
  {
   "cell_type": "markdown",
   "metadata": {},
   "source": [
    "# 6. String Lists"
   ]
  },
  {
   "cell_type": "code",
   "execution_count": null,
   "metadata": {},
   "outputs": [],
   "source": [
    "# Line(4) Created the variable word to store the string input\n",
    "# Line(6) Created another variable named reversed word that prints the string backwords \n",
    "# Line(8-11) Created an if statement to see if the word and reverse word are equal and if so it will print a Palindrome\n",
    "word = input(\"Please enter in a word to see if it is a Palindrome: \")\n",
    "\n",
    "reverse_word = word[::-1]\n",
    "\n",
    "if word == reverse_word:\n",
    "    print(\"This is a palindrome\")\n",
    "else:\n",
    "    print(\"This is not a palindrome\")\n",
    "\n"
   ]
  },
  {
   "cell_type": "markdown",
   "metadata": {},
   "source": [
    "# 7. List Comprehensions"
   ]
  },
  {
   "cell_type": "code",
   "execution_count": null,
   "metadata": {},
   "outputs": [],
   "source": [
    "# Line(3) Created a stock list that contains items within the list\n",
    "# Line(5) Created another variable b that includes a list comprehension save any item in the list that is divisable by 2\n",
    "a = [1, 4, 9, 16, 25, 36, 49, 64, 81, 100]\n",
    "\n",
    "b = [x for x in a if x%2 ==0]\n",
    "print(b)"
   ]
  }
 ],
 "metadata": {
  "kernelspec": {
   "display_name": "Python 3",
   "language": "python",
   "name": "python3"
  },
  "language_info": {
   "codemirror_mode": {
    "name": "ipython",
    "version": 3
   },
   "file_extension": ".py",
   "mimetype": "text/x-python",
   "name": "python",
   "nbconvert_exporter": "python",
   "pygments_lexer": "ipython3",
   "version": "3.7.4"
  }
 },
 "nbformat": 4,
 "nbformat_minor": 4
}
