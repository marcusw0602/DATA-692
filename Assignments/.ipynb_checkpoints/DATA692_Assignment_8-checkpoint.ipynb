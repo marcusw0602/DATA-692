{
 "cells": [
  {
   "cell_type": "code",
   "execution_count": 61,
   "metadata": {},
   "outputs": [
    {
     "data": {
      "text/plain": [
       "DataTransformerRegistry.enable('json')"
      ]
     },
     "execution_count": 61,
     "metadata": {},
     "output_type": "execute_result"
    }
   ],
   "source": [
    "import csv\n",
    "import math\n",
    "import pandas as pd\n",
    "import altair as alt\n",
    "import numpy as np\n",
    "from altair import datum\n",
    "alt.data_transformers.disable_max_rows()\n",
    "alt.data_transformers.enable('json')"
   ]
  },
  {
   "cell_type": "code",
   "execution_count": 51,
   "metadata": {},
   "outputs": [],
   "source": [
    "college= pd.read_csv('https://ed-public-download.app.cloud.gov/downloads/Most-Recent-Cohorts-All-Data-Elements.csv',usecols=['CONTROL','MD_EARN_WNE_P10'])"
   ]
  },
  {
   "cell_type": "code",
   "execution_count": 52,
   "metadata": {},
   "outputs": [
    {
     "data": {
      "text/html": [
       "<div>\n",
       "<style scoped>\n",
       "    .dataframe tbody tr th:only-of-type {\n",
       "        vertical-align: middle;\n",
       "    }\n",
       "\n",
       "    .dataframe tbody tr th {\n",
       "        vertical-align: top;\n",
       "    }\n",
       "\n",
       "    .dataframe thead th {\n",
       "        text-align: right;\n",
       "    }\n",
       "</style>\n",
       "<table border=\"1\" class=\"dataframe\">\n",
       "  <thead>\n",
       "    <tr style=\"text-align: right;\">\n",
       "      <th></th>\n",
       "      <th>CONTROL</th>\n",
       "      <th>MD_EARN_WNE_P10</th>\n",
       "    </tr>\n",
       "  </thead>\n",
       "  <tbody>\n",
       "    <tr>\n",
       "      <td>0</td>\n",
       "      <td>1</td>\n",
       "      <td>31000</td>\n",
       "    </tr>\n",
       "    <tr>\n",
       "      <td>1</td>\n",
       "      <td>1</td>\n",
       "      <td>41200</td>\n",
       "    </tr>\n",
       "    <tr>\n",
       "      <td>2</td>\n",
       "      <td>2</td>\n",
       "      <td>39600</td>\n",
       "    </tr>\n",
       "    <tr>\n",
       "      <td>3</td>\n",
       "      <td>1</td>\n",
       "      <td>46700</td>\n",
       "    </tr>\n",
       "    <tr>\n",
       "      <td>4</td>\n",
       "      <td>1</td>\n",
       "      <td>27700</td>\n",
       "    </tr>\n",
       "  </tbody>\n",
       "</table>\n",
       "</div>"
      ],
      "text/plain": [
       "   CONTROL MD_EARN_WNE_P10\n",
       "0        1           31000\n",
       "1        1           41200\n",
       "2        2           39600\n",
       "3        1           46700\n",
       "4        1           27700"
      ]
     },
     "execution_count": 52,
     "metadata": {},
     "output_type": "execute_result"
    }
   ],
   "source": [
    "college.head(5)"
   ]
  },
  {
   "cell_type": "code",
   "execution_count": 53,
   "metadata": {},
   "outputs": [
    {
     "data": {
      "text/plain": [
       "1303"
      ]
     },
     "execution_count": 53,
     "metadata": {},
     "output_type": "execute_result"
    }
   ],
   "source": [
    "college['MD_EARN_WNE_P10'].isna().sum()"
   ]
  },
  {
   "cell_type": "code",
   "execution_count": 54,
   "metadata": {},
   "outputs": [
    {
     "data": {
      "text/plain": [
       "0"
      ]
     },
     "execution_count": 54,
     "metadata": {},
     "output_type": "execute_result"
    }
   ],
   "source": [
    "college.dropna(inplace=True)\n",
    "college['MD_EARN_WNE_P10'].isna().sum()"
   ]
  },
  {
   "cell_type": "code",
   "execution_count": 78,
   "metadata": {},
   "outputs": [],
   "source": [
    "public=college.loc[college['CONTROL'] == 1].reset_index(drop=True)\n",
    "public.drop(public[public['MD_EARN_WNE_P10']=='PrivacySuppressed'].index,inplace=True)\n",
    "public['MD_EARN_WNE_P10'] = public['MD_EARN_WNE_P10'].astype('int64')"
   ]
  },
  {
   "cell_type": "code",
   "execution_count": 79,
   "metadata": {},
   "outputs": [
    {
     "data": {
      "text/html": [
       "<div>\n",
       "<style scoped>\n",
       "    .dataframe tbody tr th:only-of-type {\n",
       "        vertical-align: middle;\n",
       "    }\n",
       "\n",
       "    .dataframe tbody tr th {\n",
       "        vertical-align: top;\n",
       "    }\n",
       "\n",
       "    .dataframe thead th {\n",
       "        text-align: right;\n",
       "    }\n",
       "</style>\n",
       "<table border=\"1\" class=\"dataframe\">\n",
       "  <thead>\n",
       "    <tr style=\"text-align: right;\">\n",
       "      <th></th>\n",
       "      <th>CONTROL</th>\n",
       "      <th>MD_EARN_WNE_P10</th>\n",
       "    </tr>\n",
       "  </thead>\n",
       "  <tbody>\n",
       "    <tr>\n",
       "      <td>1944</td>\n",
       "      <td>1</td>\n",
       "      <td>32000</td>\n",
       "    </tr>\n",
       "    <tr>\n",
       "      <td>1945</td>\n",
       "      <td>1</td>\n",
       "      <td>32500</td>\n",
       "    </tr>\n",
       "    <tr>\n",
       "      <td>1946</td>\n",
       "      <td>1</td>\n",
       "      <td>37700</td>\n",
       "    </tr>\n",
       "    <tr>\n",
       "      <td>1947</td>\n",
       "      <td>1</td>\n",
       "      <td>37700</td>\n",
       "    </tr>\n",
       "    <tr>\n",
       "      <td>1948</td>\n",
       "      <td>1</td>\n",
       "      <td>58000</td>\n",
       "    </tr>\n",
       "    <tr>\n",
       "      <td>1949</td>\n",
       "      <td>1</td>\n",
       "      <td>31700</td>\n",
       "    </tr>\n",
       "    <tr>\n",
       "      <td>1950</td>\n",
       "      <td>1</td>\n",
       "      <td>50600</td>\n",
       "    </tr>\n",
       "    <tr>\n",
       "      <td>1951</td>\n",
       "      <td>1</td>\n",
       "      <td>50600</td>\n",
       "    </tr>\n",
       "    <tr>\n",
       "      <td>1952</td>\n",
       "      <td>1</td>\n",
       "      <td>50600</td>\n",
       "    </tr>\n",
       "    <tr>\n",
       "      <td>1953</td>\n",
       "      <td>1</td>\n",
       "      <td>32000</td>\n",
       "    </tr>\n",
       "  </tbody>\n",
       "</table>\n",
       "</div>"
      ],
      "text/plain": [
       "      CONTROL  MD_EARN_WNE_P10\n",
       "1944        1            32000\n",
       "1945        1            32500\n",
       "1946        1            37700\n",
       "1947        1            37700\n",
       "1948        1            58000\n",
       "1949        1            31700\n",
       "1950        1            50600\n",
       "1951        1            50600\n",
       "1952        1            50600\n",
       "1953        1            32000"
      ]
     },
     "execution_count": 79,
     "metadata": {},
     "output_type": "execute_result"
    }
   ],
   "source": [
    "public.tail(10)"
   ]
  },
  {
   "cell_type": "code",
   "execution_count": 92,
   "metadata": {},
   "outputs": [
    {
     "name": "stdout",
     "output_type": "stream",
     "text": [
      "std_err:  1683.71\n",
      "sample_std:  11905.62\n",
      "sample_mean: 38922.0\n"
     ]
    }
   ],
   "source": [
    "sample_size_50 = public.sample(50)\n",
    "sample_mean = sample_size_50['MD_EARN_WNE_P10'].mean()\n",
    "sample_std = sample_size_50['MD_EARN_WNE_P10'].std()\n",
    "sample_std = round(sample_std,2)\n",
    "std_err = sample_std/math.sqrt(len(sample_size_50))\n",
    "std_err = round(std_err,2)\n",
    "print('std_err: ',std_err)\n",
    "print('sample_std: ',sample_std)\n",
    "print('sample_mean:',sample_mean)"
   ]
  },
  {
   "cell_type": "code",
   "execution_count": 93,
   "metadata": {},
   "outputs": [
    {
     "name": "stdout",
     "output_type": "stream",
     "text": [
      "Lower confidence limit at 68% confidence level =  37238.29\n",
      "Upper confidence limit at 68% confidence level =  40605.71\n"
     ]
    }
   ],
   "source": [
    "lower = sample_mean -  std_err\n",
    "upper = sample_mean +  std_err\n",
    "\n",
    "print(\"Lower confidence limit at 68% confidence level = \", round(lower,2))\n",
    "print(\"Upper confidence limit at 68% confidence level = \", round(upper,2))"
   ]
  },
  {
   "cell_type": "code",
   "execution_count": 94,
   "metadata": {},
   "outputs": [
    {
     "name": "stdout",
     "output_type": "stream",
     "text": [
      "Lower confidence limit at 95% confidence level =  35554.58\n",
      "Upper confidence limit at 95% confidence level =  42289.42\n"
     ]
    }
   ],
   "source": [
    "lower = sample_mean -  2 * std_err\n",
    "upper = sample_mean +  2 * std_err\n",
    "\n",
    "print(\"Lower confidence limit at 95% confidence level = \", round(lower,2))\n",
    "print(\"Upper confidence limit at 95% confidence level = \", round(upper,2))"
   ]
  },
  {
   "cell_type": "code",
   "execution_count": 95,
   "metadata": {},
   "outputs": [
    {
     "name": "stdout",
     "output_type": "stream",
     "text": [
      "Lower confidence limit at 99.7% confidence level =  33870.87\n",
      "Upper confidence limit at 99.7% confidence level =  43973.13\n"
     ]
    }
   ],
   "source": [
    "lower = sample_mean -  3 * std_err\n",
    "upper = sample_mean +  3 * std_err\n",
    "\n",
    "print(\"Lower confidence limit at 99.7% confidence level = \", round(lower,2))\n",
    "print(\"Upper confidence limit at 99.7% confidence level = \", round(upper,2))"
   ]
  },
  {
   "cell_type": "code",
   "execution_count": 99,
   "metadata": {},
   "outputs": [
    {
     "name": "stdout",
     "output_type": "stream",
     "text": [
      "The population mean for earnings is:  36083.22\n"
     ]
    }
   ],
   "source": [
    "population_mean = public['MD_EARN_WNE_P10'].mean()\n",
    "print('The population mean for earnings is: ',round(population_mean,2))"
   ]
  },
  {
   "cell_type": "code",
   "execution_count": 102,
   "metadata": {},
   "outputs": [
    {
     "name": "stdout",
     "output_type": "stream",
     "text": [
      "Here is the population mean of the entire earning:  36083.22\n",
      "Here is the sample mean of 50 random schools:  38922.0\n"
     ]
    }
   ],
   "source": [
    "print('Here is the population mean of the entire earning: ',round(population_mean,2))\n",
    "print('Here is the sample mean of 50 random schools: ',sample_mean)"
   ]
  },
  {
   "cell_type": "markdown",
   "metadata": {},
   "source": [
    "# From looking at the population mean it appears to fall in all of the ranges for 68, 95, and 99.7% "
   ]
  },
  {
   "cell_type": "code",
   "execution_count": 103,
   "metadata": {},
   "outputs": [
    {
     "name": "stdout",
     "output_type": "stream",
     "text": [
      "std_err:  1487.75\n",
      "sample_std:  10519.97\n",
      "sample_mean: 35487.0\n"
     ]
    }
   ],
   "source": [
    "sample_size_100 = public.sample(100)\n",
    "sample_mean = sample_size_100['MD_EARN_WNE_P10'].mean()\n",
    "sample_std = sample_size_100['MD_EARN_WNE_P10'].std()\n",
    "sample_std = round(sample_std,2)\n",
    "std_err = sample_std/math.sqrt(len(sample_size_50))\n",
    "std_err = round(std_err,2)\n",
    "print('std_err: ',std_err)\n",
    "print('sample_std: ',sample_std)\n",
    "print('sample_mean:',sample_mean)"
   ]
  },
  {
   "cell_type": "code",
   "execution_count": 104,
   "metadata": {},
   "outputs": [
    {
     "name": "stdout",
     "output_type": "stream",
     "text": [
      "Lower confidence limit at 68% confidence level =  33999.25\n",
      "Upper confidence limit at 68% confidence level =  36974.75\n"
     ]
    }
   ],
   "source": [
    "lower = sample_mean -  std_err\n",
    "upper = sample_mean +  std_err\n",
    "\n",
    "print(\"Lower confidence limit at 68% confidence level = \", round(lower,2))\n",
    "print(\"Upper confidence limit at 68% confidence level = \", round(upper,2))"
   ]
  },
  {
   "cell_type": "code",
   "execution_count": 105,
   "metadata": {},
   "outputs": [
    {
     "name": "stdout",
     "output_type": "stream",
     "text": [
      "Lower confidence limit at 95% confidence level =  32511.5\n",
      "Upper confidence limit at 95% confidence level =  38462.5\n"
     ]
    }
   ],
   "source": [
    "lower = sample_mean -  2 * std_err\n",
    "upper = sample_mean +  2 * std_err\n",
    "\n",
    "print(\"Lower confidence limit at 95% confidence level = \", round(lower,2))\n",
    "print(\"Upper confidence limit at 95% confidence level = \", round(upper,2))"
   ]
  },
  {
   "cell_type": "code",
   "execution_count": 106,
   "metadata": {},
   "outputs": [
    {
     "name": "stdout",
     "output_type": "stream",
     "text": [
      "Lower confidence limit at 99.7% confidence level =  31023.75\n",
      "Upper confidence limit at 99.7% confidence level =  39950.25\n"
     ]
    }
   ],
   "source": [
    "lower = sample_mean -  3 * std_err\n",
    "upper = sample_mean +  3 * std_err\n",
    "\n",
    "print(\"Lower confidence limit at 99.7% confidence level = \", round(lower,2))\n",
    "print(\"Upper confidence limit at 99.7% confidence level = \", round(upper,2))"
   ]
  },
  {
   "cell_type": "code",
   "execution_count": 107,
   "metadata": {},
   "outputs": [
    {
     "name": "stdout",
     "output_type": "stream",
     "text": [
      "Here is the population mean of the entire earning:  36083.22\n",
      "Here is the sample mean of 50 random schools:  35487.0\n"
     ]
    }
   ],
   "source": [
    "print('Here is the population mean of the entire earning: ',round(population_mean,2))\n",
    "print('Here is the sample mean of 100 random schools: ',sample_mean)"
   ]
  }
 ],
 "metadata": {
  "kernelspec": {
   "display_name": "Python 3",
   "language": "python",
   "name": "python3"
  },
  "language_info": {
   "codemirror_mode": {
    "name": "ipython",
    "version": 3
   },
   "file_extension": ".py",
   "mimetype": "text/x-python",
   "name": "python",
   "nbconvert_exporter": "python",
   "pygments_lexer": "ipython3",
   "version": "3.7.4"
  }
 },
 "nbformat": 4,
 "nbformat_minor": 2
}
