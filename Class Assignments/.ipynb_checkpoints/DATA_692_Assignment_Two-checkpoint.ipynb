{
 "cells": [
  {
   "cell_type": "markdown",
   "metadata": {},
   "source": [
    "# Assignment Two homework"
   ]
  },
  {
   "cell_type": "code",
   "execution_count": null,
   "metadata": {},
   "outputs": [
    {
     "name": "stdout",
     "output_type": "stream",
     "text": [
      "\n",
      "\n"
     ]
    },
    {
     "name": "stdin",
     "output_type": "stream",
     "text": [
      "Please enter in '1' to see a 10x10 number matrix.\n",
      "Enter '2' if you want to see a 10x10 alphabet matrix.\n",
      "If you want to quit please type in '-1':  1\n"
     ]
    },
    {
     "name": "stdout",
     "output_type": "stream",
     "text": [
      "********************************************\n",
      "*  5   8   6   6   0   8   3   9   2   1   *\n",
      "*  6   6   1   0   0   3   5   3   8   8   *\n",
      "*  7   6   6   6   6   5   8   8   6   5   *\n",
      "*  1   4   9   5   0   7   4   7   8   6   *\n",
      "*  9   0   5   0   8   6   3   7   6   1   *\n",
      "*  0   7   1   0   1   1   6   3   5   0   *\n",
      "*  0   4   1   8   5   0   2   5   6   5   *\n",
      "*  1   8   2   6   9   6   3   9   1   8   *\n",
      "*  7   3   8   2   0   6   6   4   0   5   *\n",
      "*  9   6   6   8   7   0   5   5   6   1   *\n",
      "********************************************\n",
      "\n"
     ]
    },
    {
     "name": "stdin",
     "output_type": "stream",
     "text": [
      "Please enter in '1' to see a 10x10 number matrix.\n",
      "Enter '2' if you want to see a 10x10 alphabet matrix.\n",
      "If you want to quit please type in '-1':  2\n"
     ]
    },
    {
     "name": "stdout",
     "output_type": "stream",
     "text": [
      "********************************************\n",
      "*  Y   O   H   I   Q   R   B   C   G   R   *\n",
      "*  P   J   N   P   D   C   T   Y   Y   C   *\n",
      "*  V   W   R   R   X   F   B   N   U   K   *\n",
      "*  P   W   V   U   U   W   U   P   J   K   *\n",
      "*  Q   B   G   C   H   I   E   W   Q   L   *\n",
      "*  V   Q   B   H   A   W   U   G   Y   E   *\n",
      "*  A   D   Q   B   K   X   L   A   U   U   *\n",
      "*  D   J   C   Q   Y   Q   D   J   K   D   *\n",
      "*  L   G   W   H   H   L   H   L   L   N   *\n",
      "*  O   C   J   B   K   W   A   I   Q   L   *\n",
      "********************************************\n",
      "\n"
     ]
    }
   ],
   "source": [
    "# Line (6) Imported the random package\n",
    "# Line (7-35) Created an alphabet list variable to store the alphabet with the corresponding number in a dictionary format \n",
    "# Line (36-37 and 70-72) Then created a while loop to be infinite until the break statment comes true giving the user unlimited attempts untill they enter in the cancel values\n",
    "# Line (38-67) Created two if statements for two different matrixes enter 1 for numbers and 2 for alphabet\n",
    "# Line (68-69) Then implaced an else statement for any entry that do not equal 1 or 2\n",
    "import random\n",
    "alphabet_list= {\n",
    "    0:\"A\",\n",
    "    1:\"B\",\n",
    "    2:\"C\",\n",
    "    3:\"D\",\n",
    "    4:\"E\",\n",
    "    5:\"F\",\n",
    "    6:\"G\",\n",
    "    7:\"H\",\n",
    "    8:\"I\",\n",
    "    9:\"J\",\n",
    "    10:\"K\",\n",
    "    11:\"L\",\n",
    "    12:\"M\",\n",
    "    13:\"N\",\n",
    "    14:\"O\",\n",
    "    15:\"P\",\n",
    "    16:\"Q\",\n",
    "    17:\"R\",\n",
    "    18:\"S\",\n",
    "    19:\"T\",\n",
    "    20:\"U\",\n",
    "    21:\"V\",\n",
    "    22:\"W\",\n",
    "    23:\"U\",\n",
    "    24:\"X\",\n",
    "    25:\"Y\",\n",
    "    26:\"Z\"\n",
    "}\n",
    "while True:\n",
    "    try:\n",
    "        print(\"\\n\")\n",
    "        number = input(\"Please enter in '1' to see a 10x10 number matrix.\\nEnter '2' if you want to see a 10x10 alphabet matrix.\\nIf you want to quit please type in \\'-1\\': \")\n",
    "        number = int(number)\n",
    "        if number == -1:\n",
    "            break\n",
    "        elif number == 1:\n",
    "            for i in range(44):\n",
    "                print(\"*\",end=\"\")\n",
    "            print(\"\\n\",end=\"\")\n",
    "            for i in range(10):\n",
    "                print(\"*\",\" \",end=\"\")\n",
    "                for j in range(10):\n",
    "                    x=random.randrange(10)\n",
    "                    print(x,\"  \",end=\"\")\n",
    "                print(\"*\")\n",
    "            for i in range(44):\n",
    "                print(\"*\",end=\"\")\n",
    "        elif number == 2:\n",
    "            for i in range(44):\n",
    "                print(\"*\",end=\"\")\n",
    "            print(\"\\n\",end=\"\")\n",
    "            for i in range(10):\n",
    "                print(\"*\",\" \",end=\"\")\n",
    "                for j in range(10):\n",
    "                    x=random.randrange(26)\n",
    "                    y=alphabet_list.get(x)\n",
    "                    print(y,\"  \",end=\"\")\n",
    "                print(\"*\")\n",
    "            for i in range(44):\n",
    "                print(\"*\",end=\"\")\n",
    "        else:\n",
    "            print(\"Must enter the 1 or 2 any other number is invalid\")\n",
    "    except:\n",
    "        print(\"You have entered in an in valid entry\")\n",
    "        continue  "
   ]
  },
  {
   "cell_type": "code",
   "execution_count": null,
   "metadata": {},
   "outputs": [],
   "source": []
  }
 ],
 "metadata": {
  "kernelspec": {
   "display_name": "Python 3",
   "language": "python",
   "name": "python3"
  },
  "language_info": {
   "codemirror_mode": {
    "name": "ipython",
    "version": 3
   },
   "file_extension": ".py",
   "mimetype": "text/x-python",
   "name": "python",
   "nbconvert_exporter": "python",
   "pygments_lexer": "ipython3",
   "version": "3.7.4"
  }
 },
 "nbformat": 4,
 "nbformat_minor": 4
}
