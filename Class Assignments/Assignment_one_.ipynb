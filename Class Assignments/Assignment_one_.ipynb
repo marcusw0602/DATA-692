{
  "nbformat": 4,
  "nbformat_minor": 0,
  "metadata": {
    "colab": {
      "name": "Assignment_one_.ipynb",
      "provenance": [],
      "collapsed_sections": []
    },
    "kernelspec": {
      "name": "python3",
      "display_name": "Python 3"
    }
  },
  "cells": [
    {
      "cell_type": "code",
      "metadata": {
        "id": "WXyC3q7pp3vQ",
        "colab_type": "code",
        "colab": {
          "base_uri": "https://localhost:8080/",
          "height": 394
        },
        "outputId": "d862e869-a301-4b3b-ec6c-6ce5c705b6ef"
      },
      "source": [
        "# When you see the \"line ()\" this shows the line the comment is assigned to \n",
        "# imported numpy so that I can workout the variance and standard deviation problem out\n",
        "import numpy as np\n",
        "# line (7) This variable will be used for the while loop condition statement on line ()\n",
        "# line (8) I created a list variable to store all 10 numbers the user enters in\n",
        "# line (9) I created the length variable to save the number of elements in the list to be used in the mean calculation\n",
        "# line (10) Total sum is created for the mean calculation on line ()\n",
        "counter = 1 \n",
        "NumberList = []\n",
        "length = len(NumberList)\n",
        "totalsum = 0\n",
        "print(\"You can not enter no more than 10 numbers, and if you enter in anything else then a number it will exit\")\n",
        "# line (15) Using a try/exception method to make sure that the while loop only trys the loop if there is a number being entered and if not the eception catches the error and prints out a message\n",
        "# line (16) condition set to run until counter reaches 10, then will end the loop\n",
        "# line (17) display me asking the user to enter a number, line (18) next line will append the number to the list variable, line (19) increases the counter variable--the counter increases when the loop completes.\n",
        "try:\n",
        "  while counter <= 10:\n",
        "    number = int(input(\"Please enter in a numbers: \"))\n",
        "    NumberList.append(number)\n",
        "    counter = counter + 1\n",
        "  # line (23) length variable created to store the number of elements in the list\n",
        "  # line (24) and line (25) for loop created to add all the values of the list and store the sum in totalsum variable\n",
        "  # line (26) mean variable created to save the calculation results of mean formula\n",
        "  length = len(NumberList)\n",
        "  for Num in range(length):\n",
        "    totalsum = totalsum + NumberList[Num]\n",
        "  mean = totalsum / length\n",
        "  # line (40) is a print statment stating the number the users entered\n",
        "  # line (41) is a print statment that prints the list variable \n",
        "  # line (42) is a print statment that outputs the minium value \n",
        "  # line (43) is a print statment that outputs the maxium value\n",
        "  # line (44) shows the range variable store the results from the range calculations\n",
        "  # line (45) is a print statment that outputs the range variable\n",
        "  # line (46) is a print statment that outputs the mean variable \n",
        "  # line (47) shows the Var variable stores the results from the variances function\n",
        "  # line (48) is a print statment that outputs the var variable \n",
        "  # line (49) shows the StaDev variable storing the results from the standard deviation function\n",
        "  # line (50) is a print statment that outputs the StaDev variable \n",
        "  # prints out the list variable that contains all the numbers the user has entered\n",
        "  print(\"\\n\")\n",
        "  print(\"You have entered in the following numbers below\")\n",
        "  print(NumberList)\n",
        "  print(\"Your minimum number is: \"+ str(min(NumberList)))\n",
        "  print(\"Your maximum number is: \"+ str(max(NumberList)))\n",
        "  Range =  max(NumberList) - min(NumberList)\n",
        "  print(\"Your range number is: \"+ str(Range))\n",
        "  print(\"Your mean number is: \"+str(mean))\n",
        "  Var = np.var(NumberList)\n",
        "  print(\"Your Variance number is: \" + str(Var))\n",
        "  StaDev = np.std(NumberList)\n",
        "  print(\"Your Standard Deviation number is: \" + str(StaDev))\n",
        "except:\n",
        "  print(\"There was an error \\\"Please use only number when entering in \\\" \")"
      ],
      "execution_count": 10,
      "outputs": [
        {
          "output_type": "stream",
          "text": [
            "You can not enter no more than 10 numbers, and if you enter in anything else then a number it will exit\n",
            "Please enter in a numbers: 1\n",
            "Please enter in a numbers: 2\n",
            "Please enter in a numbers: 3\n",
            "Please enter in a numbers: 4\n",
            "Please enter in a numbers: 5\n",
            "Please enter in a numbers: 6\n",
            "Please enter in a numbers: 7\n",
            "Please enter in a numbers: 8\n",
            "Please enter in a numbers: 9\n",
            "Please enter in a numbers: 10\n",
            "\n",
            "\n",
            "You have entered in the following numbers below\n",
            "[1, 2, 3, 4, 5, 6, 7, 8, 9, 10]\n",
            "Your minimum number is: 1\n",
            "Your maximum number is: 10\n",
            "Your range number is: 9\n",
            "Your mean number is: 5.5\n",
            "Your Variance number is: 8.25\n",
            "Your Standard Deviation number is: 2.8722813232690143\n"
          ],
          "name": "stdout"
        }
      ]
    }
  ]
}